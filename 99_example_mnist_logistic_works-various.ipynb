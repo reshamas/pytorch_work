{
 "cells": [
  {
   "cell_type": "markdown",
   "metadata": {},
   "source": [
    "## Example of MNIST - using Logistic Regression"
   ]
  },
  {
   "cell_type": "markdown",
   "metadata": {},
   "source": [
    "https://towardsdatascience.com/logistic-regression-using-python-sklearn-numpy-mnist-handwriting-recognition-matplotlib-a6b31e2b166a"
   ]
  },
  {
   "cell_type": "code",
   "execution_count": 4,
   "metadata": {},
   "outputs": [
    {
     "name": "stdout",
     "output_type": "stream",
     "text": [
      "matplotlib                         2.2.2    \r\n"
     ]
    }
   ],
   "source": [
    "!pip list | grep matplotlib"
   ]
  },
  {
   "cell_type": "code",
   "execution_count": 5,
   "metadata": {},
   "outputs": [],
   "source": [
    "%matplotlib inline"
   ]
  },
  {
   "cell_type": "code",
   "execution_count": 6,
   "metadata": {},
   "outputs": [],
   "source": [
    "from sklearn.datasets import fetch_mldata\n",
    "# Change data_home to wherever to where you want to download your data\n",
    "mnist = fetch_mldata('MNIST original')"
   ]
  },
  {
   "cell_type": "code",
   "execution_count": 7,
   "metadata": {},
   "outputs": [
    {
     "data": {
      "text/plain": [
       "sklearn.utils.Bunch"
      ]
     },
     "execution_count": 7,
     "metadata": {},
     "output_type": "execute_result"
    }
   ],
   "source": [
    "type(mnist)"
   ]
  },
  {
   "cell_type": "code",
   "execution_count": 12,
   "metadata": {},
   "outputs": [
    {
     "data": {
      "text/plain": [
       "{'DESCR': 'mldata.org dataset: mnist-original',\n",
       " 'COL_NAMES': ['label', 'data'],\n",
       " 'target': array([0., 0., 0., ..., 9., 9., 9.]),\n",
       " 'data': array([[0, 0, 0, ..., 0, 0, 0],\n",
       "        [0, 0, 0, ..., 0, 0, 0],\n",
       "        [0, 0, 0, ..., 0, 0, 0],\n",
       "        ...,\n",
       "        [0, 0, 0, ..., 0, 0, 0],\n",
       "        [0, 0, 0, ..., 0, 0, 0],\n",
       "        [0, 0, 0, ..., 0, 0, 0]], dtype=uint8)}"
      ]
     },
     "execution_count": 12,
     "metadata": {},
     "output_type": "execute_result"
    }
   ],
   "source": [
    "mnist"
   ]
  },
  {
   "cell_type": "code",
   "execution_count": 4,
   "metadata": {},
   "outputs": [
    {
     "name": "stdout",
     "output_type": "stream",
     "text": [
      "      0   1   2   3   4   5   6   7   8   9  ...  55  56  57  58  59  60  61  \\\n",
      "0      0   1   6  15  12   1   0   0   0   7 ...   0   0   0   6  14   7   1   \n",
      "1      0   0  10  16   6   0   0   0   0   7 ...   0   0   0  10  16  15   3   \n",
      "2      0   0   8  15  16  13   0   0   0   1 ...   0   0   0   9  14   0   0   \n",
      "3      0   0   0   3  11  16   0   0   0   0 ...   0   0   0   0   1  15   2   \n",
      "4      0   0   5  14   4   0   0   0   0   0 ...   0   0   0   4  12  14   7   \n",
      "5      0   0  11  16  10   1   0   0   0   4 ...   3   0   0  10  16  16  16   \n",
      "6      0   0   1  11  13  11   7   0   0   0 ...   0   0   0   1  13   5   0   \n",
      "7      0   0   8  10   8   7   2   0   0   1 ...   0   0   0   4  13   8   0   \n",
      "8      0   0  15   2  14  13   2   0   0   0 ...   0   0   0  10  12   5   0   \n",
      "9      0   0   3  13  13   2   0   0   0   6 ...   0   0   0   3  15  11   6   \n",
      "10     0   0   6  14  14  16  16   8   0   0 ...   0   0   0  10  12   0   0   \n",
      "11     0   0   0   3  16  11   1   0   0   0 ...   0   0   0   0   2  14  14   \n",
      "12     0   0   0   4  13  16  16   3   0   0 ...   0   0   0   0   5  15   4   \n",
      "13     0   0   7  12   6   2   0   0   0   0 ...   0   0   0   5  16   9   0   \n",
      "14     0   0   7  11  11   6   0   0   0   9 ...   0   0   0  14  16  12  10   \n",
      "15     0   1  10  15   8   0   0   0   0   6 ...   0   0   0   9  15   8   0   \n",
      "16     0   0   0   1  11   7   0   0   0   0 ...   0   0   0   0   3  15   0   \n",
      "17     0   0   5  12  16  16   3   0   0   0 ...   0   0   0   8  12   0   0   \n",
      "18     0   0   1   8  13  13   2   0   0   4 ...   0   0   0   1  13  12   4   \n",
      "19     0   0   0   2  13  12   4   0   0   0 ...   0   0   0   0   0  15   3   \n",
      "20     0   0   4  11  15  16  15   0   0   0 ...   0   0   0   6  14   2   0   \n",
      "21     0   0   4  10  13  11   1   0   0   2 ...   0   0   0   6  13  11   1   \n",
      "22     0   0   3  11  13  14   6   0   0   0 ...   0   0   0   3  13  10   0   \n",
      "23     0   0   1   4  11  13   7   0   0   2 ...   0   0   0   0   1  14   3   \n",
      "24     0   0   9  13   1   0   0   0   0   0 ...   5   0   0   4  15  16  16   \n",
      "25     0   0   9  16  11   0   0   0   0   4 ...   1   0   0  10  16   9   9   \n",
      "26     0   0   2  13   9   0   0   0   0   0 ...   0   0   0   3  16  14   4   \n",
      "27     0   0   0  10  12   0   0   0   0   0 ...   0   0   0   1  11  14  12   \n",
      "28     0   0   0   0  10  13   0   0   0   0 ...   0   0   0   0   0   8  15   \n",
      "29     0   0   7   9  13  11   2   0   0   6 ...   0   0   0  13  12   8   1   \n",
      "...   ..  ..  ..  ..  ..  ..  ..  ..  ..  .. ...  ..  ..  ..  ..  ..  ..  ..   \n",
      "3793   0   0  15  15  16  14   1   0   0   3 ...   0   0   0  15  16  12   0   \n",
      "3794   0   0   2  13  16  15   4   0   0   0 ...   0   0   0   3  14   1   0   \n",
      "3795   0   0  12  16   7   0   0   0   0   2 ...   0   0   0  11  16  16  16   \n",
      "3796   0   0   0   3  13   0   0   0   0   0 ...   0   0   0   0   6  12   0   \n",
      "3797   0   0   0  12   8   0   0   0   0   0 ...   0   0   0   0  14   6   0   \n",
      "3798   0   0   0   9  12   0   0   0   0   0 ...   0   0   0   0  10  11   0   \n",
      "3799   0   0   5  16  13   1   0   0   0   0 ...   0   0   1   6  10  12  12   \n",
      "3800   0   0   6  16   8   0   0   0   0   2 ...   0   0   0   7  13  16  13   \n",
      "3801   0   0   5  16  11   0   0   0   0   1 ...   0   0   0   4  14  12   2   \n",
      "3802   0   1  12  16  14   4   0   0   0   8 ...   0   0   0  13  15  15  10   \n",
      "3803   0   0   3  14  13   3   0   0   0   0 ...   0   0   0   3  13  13   6   \n",
      "3804   0   0  12  16  16  10   1   0   0   0 ...   0   0   1  10  16  16  16   \n",
      "3805   0   0   0   8  11   0   0   0   0   0 ...   0   0   0   0   7  12   0   \n",
      "3806   0   1   9  16  14   6   0   0   0   5 ...   0   0   0  11  16   7   0   \n",
      "3807   0   0   4  14  15   3   0   0   0   0 ...   0   0   0   3  14  14   6   \n",
      "3808   0   2  15  16  15   1   0   0   0   3 ...   0   0   0  14  13  16  11   \n",
      "3809   0   0   5  15  16   6   0   0   0   0 ...   0   0   0   5  15  16  15   \n",
      "3810   0   0   4  16  11   1   0   0   0   0 ...   0   0   0   2  12  16  11   \n",
      "3811   0   0   0   0   7  11   1   0   0   0 ...   0   0   0   2   0   7  11   \n",
      "3812   0   0   0   6  13   0   0   0   0   0 ...   0   0   0   0   6   9   0   \n",
      "3813   0   0   0   6   8   0   0   0   0   0 ...   0   0   1   4   9   8   0   \n",
      "3814   0   0   9  16   6   0   0   0   0   2 ...   0   0   0  10  13   1   0   \n",
      "3815   0   0   9  16  12   1   0   0   0   3 ...   0   0   0   8  16  16  16   \n",
      "3816   0   1  10  16  16   4   0   0   0   8 ...   0   0   2  13  16  12   5   \n",
      "3817   0   0   6  16  11   0   0   0   0   1 ...   0   0   1   7  14  16  12   \n",
      "3818   0   0   5  13  11   2   0   0   0   2 ...   0   0   0   8  13  15  10   \n",
      "3819   0   0   0   1  12   1   0   0   0   0 ...   0   0   0   0   4   9   0   \n",
      "3820   0   0   3  15   0   0   0   0   0   0 ...   0   0   0   4  14  16   9   \n",
      "3821   0   0   6  16   2   0   0   0   0   0 ...   0   0   0   5  16  16  16   \n",
      "3822   0   0   2  15  16  13   1   0   0   0 ...   0   0   0   4  14   1   0   \n",
      "\n",
      "      62  63  64  \n",
      "0      0   0   0  \n",
      "1      0   0   0  \n",
      "2      0   0   7  \n",
      "3      0   0   4  \n",
      "4      0   0   6  \n",
      "5     16   6   2  \n",
      "6      0   0   5  \n",
      "7      0   0   5  \n",
      "8      0   0   0  \n",
      "9      0   0   8  \n",
      "10     0   0   7  \n",
      "11     1   0   1  \n",
      "12     0   0   9  \n",
      "13     0   0   5  \n",
      "14     1   0   3  \n",
      "15     0   0   0  \n",
      "16     0   0   4  \n",
      "17     0   0   7  \n",
      "18     0   0   8  \n",
      "19     0   0   4  \n",
      "20     0   0   7  \n",
      "21     0   0   8  \n",
      "22     0   0   5  \n",
      "23     0   0   9  \n",
      "24    16  16   1  \n",
      "25    13   6   2  \n",
      "26     0   0   0  \n",
      "27     1   0   6  \n",
      "28     2   0   1  \n",
      "29     0   0   8  \n",
      "...   ..  ..  ..  \n",
      "3793   0   0   5  \n",
      "3794   0   0   7  \n",
      "3795  16   8   2  \n",
      "3796   0   0   4  \n",
      "3797   0   0   4  \n",
      "3798   0   0   4  \n",
      "3799   2   0   9  \n",
      "3800   9   0   9  \n",
      "3801   0   0   0  \n",
      "3802   2   0   3  \n",
      "3803   0   0   0  \n",
      "3804   7   0   3  \n",
      "3805   0   0   4  \n",
      "3806   0   0   8  \n",
      "3807   0   0   0  \n",
      "3808   1   0   3  \n",
      "3809   1   0   0  \n",
      "3810   1   0   1  \n",
      "3811   0   0   1  \n",
      "3812   0   0   4  \n",
      "3813   0   0   4  \n",
      "3814   0   0   8  \n",
      "3815   8   0   9  \n",
      "3816   0   0   3  \n",
      "3817   1   0   9  \n",
      "3818   1   0   9  \n",
      "3819   0   0   4  \n",
      "3820   0   0   6  \n",
      "3821   5   0   6  \n",
      "3822   0   0   7  \n",
      "\n",
      "[3823 rows x 65 columns]\n"
     ]
    }
   ],
   "source": [
    "import pandas as pd\n",
    "\n",
    "# Load in the data with `read_csv()`\n",
    "digits = pd.read_csv(\"http://archive.ics.uci.edu/ml/machine-learning-databases/optdigits/optdigits.tra\", header=None)\n",
    "\n",
    "# Print out `digits`\n",
    "print(digits)"
   ]
  },
  {
   "cell_type": "code",
   "execution_count": 5,
   "metadata": {},
   "outputs": [
    {
     "name": "stdout",
     "output_type": "stream",
     "text": [
      "      0   1   2   3   4   5   6   7   8   9  ...  55  56  57  58  59  60  61  \\\n",
      "0      0   1   6  15  12   1   0   0   0   7 ...   0   0   0   6  14   7   1   \n",
      "1      0   0  10  16   6   0   0   0   0   7 ...   0   0   0  10  16  15   3   \n",
      "2      0   0   8  15  16  13   0   0   0   1 ...   0   0   0   9  14   0   0   \n",
      "3      0   0   0   3  11  16   0   0   0   0 ...   0   0   0   0   1  15   2   \n",
      "4      0   0   5  14   4   0   0   0   0   0 ...   0   0   0   4  12  14   7   \n",
      "5      0   0  11  16  10   1   0   0   0   4 ...   3   0   0  10  16  16  16   \n",
      "6      0   0   1  11  13  11   7   0   0   0 ...   0   0   0   1  13   5   0   \n",
      "7      0   0   8  10   8   7   2   0   0   1 ...   0   0   0   4  13   8   0   \n",
      "8      0   0  15   2  14  13   2   0   0   0 ...   0   0   0  10  12   5   0   \n",
      "9      0   0   3  13  13   2   0   0   0   6 ...   0   0   0   3  15  11   6   \n",
      "10     0   0   6  14  14  16  16   8   0   0 ...   0   0   0  10  12   0   0   \n",
      "11     0   0   0   3  16  11   1   0   0   0 ...   0   0   0   0   2  14  14   \n",
      "12     0   0   0   4  13  16  16   3   0   0 ...   0   0   0   0   5  15   4   \n",
      "13     0   0   7  12   6   2   0   0   0   0 ...   0   0   0   5  16   9   0   \n",
      "14     0   0   7  11  11   6   0   0   0   9 ...   0   0   0  14  16  12  10   \n",
      "15     0   1  10  15   8   0   0   0   0   6 ...   0   0   0   9  15   8   0   \n",
      "16     0   0   0   1  11   7   0   0   0   0 ...   0   0   0   0   3  15   0   \n",
      "17     0   0   5  12  16  16   3   0   0   0 ...   0   0   0   8  12   0   0   \n",
      "18     0   0   1   8  13  13   2   0   0   4 ...   0   0   0   1  13  12   4   \n",
      "19     0   0   0   2  13  12   4   0   0   0 ...   0   0   0   0   0  15   3   \n",
      "20     0   0   4  11  15  16  15   0   0   0 ...   0   0   0   6  14   2   0   \n",
      "21     0   0   4  10  13  11   1   0   0   2 ...   0   0   0   6  13  11   1   \n",
      "22     0   0   3  11  13  14   6   0   0   0 ...   0   0   0   3  13  10   0   \n",
      "23     0   0   1   4  11  13   7   0   0   2 ...   0   0   0   0   1  14   3   \n",
      "24     0   0   9  13   1   0   0   0   0   0 ...   5   0   0   4  15  16  16   \n",
      "25     0   0   9  16  11   0   0   0   0   4 ...   1   0   0  10  16   9   9   \n",
      "26     0   0   2  13   9   0   0   0   0   0 ...   0   0   0   3  16  14   4   \n",
      "27     0   0   0  10  12   0   0   0   0   0 ...   0   0   0   1  11  14  12   \n",
      "28     0   0   0   0  10  13   0   0   0   0 ...   0   0   0   0   0   8  15   \n",
      "29     0   0   7   9  13  11   2   0   0   6 ...   0   0   0  13  12   8   1   \n",
      "...   ..  ..  ..  ..  ..  ..  ..  ..  ..  .. ...  ..  ..  ..  ..  ..  ..  ..   \n",
      "3793   0   0  15  15  16  14   1   0   0   3 ...   0   0   0  15  16  12   0   \n",
      "3794   0   0   2  13  16  15   4   0   0   0 ...   0   0   0   3  14   1   0   \n",
      "3795   0   0  12  16   7   0   0   0   0   2 ...   0   0   0  11  16  16  16   \n",
      "3796   0   0   0   3  13   0   0   0   0   0 ...   0   0   0   0   6  12   0   \n",
      "3797   0   0   0  12   8   0   0   0   0   0 ...   0   0   0   0  14   6   0   \n",
      "3798   0   0   0   9  12   0   0   0   0   0 ...   0   0   0   0  10  11   0   \n",
      "3799   0   0   5  16  13   1   0   0   0   0 ...   0   0   1   6  10  12  12   \n",
      "3800   0   0   6  16   8   0   0   0   0   2 ...   0   0   0   7  13  16  13   \n",
      "3801   0   0   5  16  11   0   0   0   0   1 ...   0   0   0   4  14  12   2   \n",
      "3802   0   1  12  16  14   4   0   0   0   8 ...   0   0   0  13  15  15  10   \n",
      "3803   0   0   3  14  13   3   0   0   0   0 ...   0   0   0   3  13  13   6   \n",
      "3804   0   0  12  16  16  10   1   0   0   0 ...   0   0   1  10  16  16  16   \n",
      "3805   0   0   0   8  11   0   0   0   0   0 ...   0   0   0   0   7  12   0   \n",
      "3806   0   1   9  16  14   6   0   0   0   5 ...   0   0   0  11  16   7   0   \n",
      "3807   0   0   4  14  15   3   0   0   0   0 ...   0   0   0   3  14  14   6   \n",
      "3808   0   2  15  16  15   1   0   0   0   3 ...   0   0   0  14  13  16  11   \n",
      "3809   0   0   5  15  16   6   0   0   0   0 ...   0   0   0   5  15  16  15   \n",
      "3810   0   0   4  16  11   1   0   0   0   0 ...   0   0   0   2  12  16  11   \n",
      "3811   0   0   0   0   7  11   1   0   0   0 ...   0   0   0   2   0   7  11   \n",
      "3812   0   0   0   6  13   0   0   0   0   0 ...   0   0   0   0   6   9   0   \n",
      "3813   0   0   0   6   8   0   0   0   0   0 ...   0   0   1   4   9   8   0   \n",
      "3814   0   0   9  16   6   0   0   0   0   2 ...   0   0   0  10  13   1   0   \n",
      "3815   0   0   9  16  12   1   0   0   0   3 ...   0   0   0   8  16  16  16   \n",
      "3816   0   1  10  16  16   4   0   0   0   8 ...   0   0   2  13  16  12   5   \n",
      "3817   0   0   6  16  11   0   0   0   0   1 ...   0   0   1   7  14  16  12   \n",
      "3818   0   0   5  13  11   2   0   0   0   2 ...   0   0   0   8  13  15  10   \n",
      "3819   0   0   0   1  12   1   0   0   0   0 ...   0   0   0   0   4   9   0   \n",
      "3820   0   0   3  15   0   0   0   0   0   0 ...   0   0   0   4  14  16   9   \n",
      "3821   0   0   6  16   2   0   0   0   0   0 ...   0   0   0   5  16  16  16   \n",
      "3822   0   0   2  15  16  13   1   0   0   0 ...   0   0   0   4  14   1   0   \n",
      "\n",
      "      62  63  64  \n",
      "0      0   0   0  \n",
      "1      0   0   0  \n",
      "2      0   0   7  \n",
      "3      0   0   4  \n",
      "4      0   0   6  \n",
      "5     16   6   2  \n",
      "6      0   0   5  \n",
      "7      0   0   5  \n",
      "8      0   0   0  \n",
      "9      0   0   8  \n",
      "10     0   0   7  \n",
      "11     1   0   1  \n",
      "12     0   0   9  \n",
      "13     0   0   5  \n",
      "14     1   0   3  \n",
      "15     0   0   0  \n",
      "16     0   0   4  \n",
      "17     0   0   7  \n",
      "18     0   0   8  \n",
      "19     0   0   4  \n",
      "20     0   0   7  \n",
      "21     0   0   8  \n",
      "22     0   0   5  \n",
      "23     0   0   9  \n",
      "24    16  16   1  \n",
      "25    13   6   2  \n",
      "26     0   0   0  \n",
      "27     1   0   6  \n",
      "28     2   0   1  \n",
      "29     0   0   8  \n",
      "...   ..  ..  ..  \n",
      "3793   0   0   5  \n",
      "3794   0   0   7  \n",
      "3795  16   8   2  \n",
      "3796   0   0   4  \n",
      "3797   0   0   4  \n",
      "3798   0   0   4  \n",
      "3799   2   0   9  \n",
      "3800   9   0   9  \n",
      "3801   0   0   0  \n",
      "3802   2   0   3  \n",
      "3803   0   0   0  \n",
      "3804   7   0   3  \n",
      "3805   0   0   4  \n",
      "3806   0   0   8  \n",
      "3807   0   0   0  \n",
      "3808   1   0   3  \n",
      "3809   1   0   0  \n",
      "3810   1   0   1  \n",
      "3811   0   0   1  \n",
      "3812   0   0   4  \n",
      "3813   0   0   4  \n",
      "3814   0   0   8  \n",
      "3815   8   0   9  \n",
      "3816   0   0   3  \n",
      "3817   1   0   9  \n",
      "3818   1   0   9  \n",
      "3819   0   0   4  \n",
      "3820   0   0   6  \n",
      "3821   5   0   6  \n",
      "3822   0   0   7  \n",
      "\n",
      "[3823 rows x 65 columns]\n"
     ]
    }
   ],
   "source": [
    "# Import the `pandas` library as `pd`\n",
    "import pandas as pd\n",
    "\n",
    "# Load in the data with `read_csv()`\n",
    "digits = pd.read_csv(\"http://archive.ics.uci.edu/ml/machine-learning-databases/optdigits/optdigits.tra\", header=None)\n",
    "\n",
    "# Print out `digits`\n",
    "print(digits)"
   ]
  },
  {
   "cell_type": "code",
   "execution_count": 8,
   "metadata": {},
   "outputs": [
    {
     "data": {
      "text/plain": [
       "(3823, 65)"
      ]
     },
     "execution_count": 8,
     "metadata": {},
     "output_type": "execute_result"
    }
   ],
   "source": [
    "digits.shape"
   ]
  },
  {
   "cell_type": "code",
   "execution_count": 17,
   "metadata": {},
   "outputs": [
    {
     "name": "stdout",
     "output_type": "stream",
     "text": [
      "Automatically created module for IPython interactive environment\n",
      "--------------------------------------\n",
      "Sparsity with L1 penalty   : 80.24%\n",
      "Test score with L1 penalty : 0.8317\n",
      "Example run in             : 2.659 s\n"
     ]
    },
    {
     "data": {
      "image/png": "[encoded data removed]",
      "text/plain": [
       "<Figure size 720x360 with 10 Axes>"
      ]
     },
     "metadata": {},
     "output_type": "display_data"
    }
   ],
   "source": [
    "import time\n",
    "import io\n",
    "import matplotlib.pyplot as plt\n",
    "import numpy as np\n",
    "from scipy.io.arff import loadarff\n",
    "\n",
    "from sklearn.datasets import get_data_home\n",
    "from sklearn.externals.joblib import Memory\n",
    "from sklearn.linear_model import LogisticRegression\n",
    "from sklearn.model_selection import train_test_split\n",
    "from sklearn.preprocessing import StandardScaler\n",
    "from sklearn.utils import check_random_state\n",
    "try:\n",
    "    from urllib.request import urlopen\n",
    "except ImportError:\n",
    "    # Python 2\n",
    "    from urllib2 import urlopen\n",
    "\n",
    "print(__doc__)\n",
    "\n",
    "# Author: Arthur Mensch <arthur.mensch@m4x.org>\n",
    "# License: BSD 3 clause\n",
    "\n",
    "# Turn down for faster convergence\n",
    "t0 = time.time()\n",
    "train_samples = 5000\n",
    "\n",
    "memory = Memory(get_data_home())\n",
    "\n",
    "\n",
    "@memory.cache()\n",
    "def fetch_mnist():\n",
    "    content = urlopen(\n",
    "        'https://www.openml.org/data/download/52667/mnist_784.arff').read()\n",
    "    data, meta = loadarff(io.StringIO(content.decode('utf8')))\n",
    "    data = data.view([('pixels', '<f8', 784), ('class', '|S1')])\n",
    "    return data['pixels'], data['class']\n",
    "\n",
    "X, y = fetch_mnist()\n",
    "\n",
    "random_state = check_random_state(0)\n",
    "permutation = random_state.permutation(X.shape[0])\n",
    "X = X[permutation]\n",
    "y = y[permutation]\n",
    "X = X.reshape((X.shape[0], -1))\n",
    "\n",
    "X_train, X_test, y_train, y_test = train_test_split(\n",
    "    X, y, train_size=train_samples, test_size=10000)\n",
    "\n",
    "scaler = StandardScaler()\n",
    "X_train = scaler.fit_transform(X_train)\n",
    "X_test = scaler.transform(X_test)\n",
    "\n",
    "# Turn up tolerance for faster convergence\n",
    "clf = LogisticRegression(C=50. / train_samples,\n",
    "                         multi_class='multinomial',\n",
    "                         penalty='l1', solver='saga', tol=0.1)\n",
    "clf.fit(X_train, y_train)\n",
    "sparsity = np.mean(clf.coef_ == 0) * 100\n",
    "score = clf.score(X_test, y_test)\n",
    "\n",
    "#print('Best C % .4f' % clf.C_)\n",
    "print(\"--------------------------------------\")\n",
    "print(\"Sparsity with L1 penalty   : %.2f%%\" % sparsity)\n",
    "print(\"Test score with L1 penalty : %.4f\" % score)\n",
    "\n",
    "coef = clf.coef_.copy()\n",
    "plt.figure(figsize=(10, 5))\n",
    "scale = np.abs(coef).max()\n",
    "for i in range(10):\n",
    "    l1_plot = plt.subplot(2, 5, i + 1)\n",
    "    l1_plot.imshow(coef[i].reshape(28, 28), interpolation='nearest',\n",
    "                   cmap=plt.cm.RdBu, vmin=-scale, vmax=scale)\n",
    "    l1_plot.set_xticks(())\n",
    "    l1_plot.set_yticks(())\n",
    "    l1_plot.set_xlabel('Class %i' % i)\n",
    "plt.suptitle('Classification vector for...')\n",
    "\n",
    "run_time = time.time() - t0\n",
    "print('Example run in             : %.3f s' % run_time)\n",
    "plt.show()"
   ]
  },
  {
   "cell_type": "code",
   "execution_count": 9,
   "metadata": {},
   "outputs": [
    {
     "data": {
      "text/plain": [
       "(70000, 784)"
      ]
     },
     "execution_count": 9,
     "metadata": {},
     "output_type": "execute_result"
    }
   ],
   "source": [
    "X.shape"
   ]
  },
  {
   "cell_type": "code",
   "execution_count": null,
   "metadata": {},
   "outputs": [],
   "source": []
  }
 ],
 "metadata": {
  "kernelspec": {
   "display_name": "Python 3",
   "language": "python",
   "name": "python3"
  },
  "language_info": {
   "codemirror_mode": {
    "name": "ipython",
    "version": 3
   },
   "file_extension": ".py",
   "mimetype": "text/x-python",
   "name": "python",
   "nbconvert_exporter": "python",
   "pygments_lexer": "ipython3",
   "version": "3.6.5"
  }
 },
 "nbformat": 4,
 "nbformat_minor": 2
}
