{
 "cells": [
  {
   "cell_type": "markdown",
   "metadata": {},
   "source": [
    "# PyTorch - MNIST"
   ]
  },
  {
   "cell_type": "markdown",
   "metadata": {},
   "source": [
    "References:\n",
    "https://nextjournal.com/gkoehler/pytorch-mnist\n"
   ]
  },
  {
   "cell_type": "code",
   "execution_count": 1,
   "metadata": {},
   "outputs": [],
   "source": [
    "import torch\n",
    "import torchvision"
   ]
  },
  {
   "cell_type": "code",
   "execution_count": 2,
   "metadata": {},
   "outputs": [],
   "source": [
    "%matplotlib inline"
   ]
  },
  {
   "cell_type": "code",
   "execution_count": 3,
   "metadata": {},
   "outputs": [],
   "source": [
    "import pdb"
   ]
  },
  {
   "cell_type": "code",
   "execution_count": 4,
   "metadata": {},
   "outputs": [],
   "source": [
    "import time"
   ]
  },
  {
   "cell_type": "code",
   "execution_count": 5,
   "metadata": {},
   "outputs": [],
   "source": [
    "path = \"/Users/reshamashaikh/ds/my_repos/pytorch_work\""
   ]
  },
  {
   "cell_type": "code",
   "execution_count": 6,
   "metadata": {},
   "outputs": [
    {
     "data": {
      "text/plain": [
       "<torch._C.Generator at 0x10b98de50>"
      ]
     },
     "execution_count": 6,
     "metadata": {},
     "output_type": "execute_result"
    }
   ],
   "source": [
    "n_epochs = 3\n",
    "batch_size_train = 64\n",
    "batch_size_test = 1000\n",
    "learning_rate = 0.01\n",
    "momentum = 0.5\n",
    "log_interval = 10\n",
    "\n",
    "random_seed = 1\n",
    "torch.backends.cudnn.enabled = False\n",
    "torch.manual_seed(random_seed)"
   ]
  },
  {
   "cell_type": "code",
   "execution_count": 7,
   "metadata": {},
   "outputs": [],
   "source": [
    "t0 = time.time()"
   ]
  },
  {
   "cell_type": "code",
   "execution_count": 8,
   "metadata": {},
   "outputs": [],
   "source": [
    "train_loader = torch.utils.data.DataLoader(\n",
    "  torchvision.datasets.MNIST('../mnist_data',  train=True, download=True,\n",
    "                             transform=torchvision.transforms.Compose([\n",
    "                               torchvision.transforms.ToTensor(),\n",
    "                               torchvision.transforms.Normalize(\n",
    "                                 (0.1307,), (0.3081,))\n",
    "                             ])),\n",
    "  batch_size=batch_size_train, shuffle=True)\n",
    "\n",
    "test_loader = torch.utils.data.DataLoader(\n",
    "  torchvision.datasets.MNIST('../mnist_data', train=False, download=True,\n",
    "                             transform=torchvision.transforms.Compose([\n",
    "                               torchvision.transforms.ToTensor(),\n",
    "                               torchvision.transforms.Normalize(\n",
    "                                 (0.1307,), (0.3081,))\n",
    "                             ])),\n",
    "  batch_size=batch_size_test, shuffle=True)"
   ]
  },
  {
   "cell_type": "code",
   "execution_count": 9,
   "metadata": {},
   "outputs": [],
   "source": [
    "examples = enumerate(test_loader)\n",
    "batch_idx, (example_data, example_targets) = next(examples)"
   ]
  },
  {
   "cell_type": "code",
   "execution_count": 10,
   "metadata": {},
   "outputs": [
    {
     "data": {
      "text/plain": [
       "torch.Size([1000, 1, 28, 28])"
      ]
     },
     "execution_count": 10,
     "metadata": {},
     "output_type": "execute_result"
    }
   ],
   "source": [
    "example_data.shape"
   ]
  },
  {
   "cell_type": "code",
   "execution_count": 11,
   "metadata": {},
   "outputs": [
    {
     "data": {
      "image/png": "[encoded data removed]",
      "text/plain": [
       "<Figure size 432x288 with 6 Axes>"
      ]
     },
     "execution_count": 11,
     "metadata": {},
     "output_type": "execute_result"
    },
    {
     "data": {
      "image/png": "[encoded data removed]",
      "text/plain": [
       "<Figure size 432x288 with 6 Axes>"
      ]
     },
     "metadata": {},
     "output_type": "display_data"
    }
   ],
   "source": [
    "import matplotlib.pyplot as plt\n",
    "\n",
    "fig = plt.figure()\n",
    "for i in range(6):\n",
    "  plt.subplot(2,3,i+1)\n",
    "  plt.tight_layout()\n",
    "  plt.imshow(example_data[i][0], cmap='gray', interpolation='none')\n",
    "  plt.title(\"Ground Truth: {}\".format(example_targets[i]))\n",
    "  plt.xticks([])\n",
    "  plt.yticks([])\n",
    "fig"
   ]
  },
  {
   "cell_type": "code",
   "execution_count": 12,
   "metadata": {},
   "outputs": [],
   "source": [
    "import torch.nn as nn\n",
    "import torch.nn.functional as F\n",
    "import torch.optim as optim"
   ]
  },
  {
   "cell_type": "code",
   "execution_count": 13,
   "metadata": {},
   "outputs": [],
   "source": [
    "class Net(nn.Module):\n",
    "    def __init__(self):\n",
    "        super(Net, self).__init__()\n",
    "        self.conv1 = nn.Conv2d(1, 10, kernel_size=5)\n",
    "        self.conv2 = nn.Conv2d(10, 20, kernel_size=5)\n",
    "        self.conv2_drop = nn.Dropout2d()\n",
    "        self.fc1 = nn.Linear(320, 50)\n",
    "        self.fc2 = nn.Linear(50, 10)\n",
    "\n",
    "    def forward(self, x):\n",
    "        x = F.relu(F.max_pool2d(self.conv1(x), 2))\n",
    "        x = F.relu(F.max_pool2d(self.conv2_drop(self.conv2(x)), 2))\n",
    "        x = x.view(-1, 320)\n",
    "        x = F.relu(self.fc1(x))\n",
    "        x = F.dropout(x, training=self.training)\n",
    "        x = self.fc2(x)\n",
    "        return F.log_softmax(x)"
   ]
  },
  {
   "cell_type": "code",
   "execution_count": 14,
   "metadata": {},
   "outputs": [],
   "source": [
    "network = Net()\n",
    "optimizer = optim.SGD(network.parameters(), lr=learning_rate,\n",
    "                      momentum=momentum)"
   ]
  },
  {
   "cell_type": "code",
   "execution_count": 15,
   "metadata": {},
   "outputs": [],
   "source": [
    "train_losses = []\n",
    "train_counter = []\n",
    "test_losses = []\n",
    "test_counter = [i*len(train_loader.dataset) for i in range(n_epochs + 1)]"
   ]
  },
  {
   "cell_type": "code",
   "execution_count": 16,
   "metadata": {},
   "outputs": [],
   "source": [
    "def train(epoch):\n",
    "  network.train()\n",
    "  for batch_idx, (data, target) in enumerate(train_loader):\n",
    "    optimizer.zero_grad()\n",
    "    output = network(data)\n",
    "    loss = F.nll_loss(output, target)\n",
    "    loss.backward()\n",
    "    optimizer.step()\n",
    "    if batch_idx % log_interval == 0:\n",
    "      print('Train Epoch: {} [{}/{} ({:.0f}%)]\\tLoss: {:.6f}'.format(\n",
    "        epoch, batch_idx * len(data), len(train_loader.dataset),\n",
    "        100. * batch_idx / len(train_loader), loss.item()))\n",
    "      train_losses.append(loss.item())\n",
    "      train_counter.append(\n",
    "        (batch_idx*64) + ((epoch-1)*len(train_loader.dataset)))\n",
    "      torch.save(network.state_dict(), path+'/results/model.pth')\n",
    "      torch.save(optimizer.state_dict(), path+'/results/optimizer.pth')"
   ]
  },
  {
   "cell_type": "code",
   "execution_count": 17,
   "metadata": {},
   "outputs": [],
   "source": [
    "def test():\n",
    "  network.eval()\n",
    "  test_loss = 0\n",
    "  correct = 0\n",
    "  with torch.no_grad():\n",
    "    for data, target in test_loader:\n",
    "      output = network(data)\n",
    "      test_loss += F.nll_loss(output, target, size_average=False).item()\n",
    "      pred = output.data.max(1, keepdim=True)[1]\n",
    "      correct += pred.eq(target.data.view_as(pred)).sum()\n",
    "  test_loss /= len(test_loader.dataset)\n",
    "  test_losses.append(test_loss)\n",
    "  print('\\nTest set: Avg. loss: {:.4f}, Accuracy: {}/{} ({:.0f}%)\\n'.format(\n",
    "    test_loss, correct, len(test_loader.dataset),\n",
    "    100. * correct / len(test_loader.dataset)))"
   ]
  },
  {
   "cell_type": "code",
   "execution_count": 18,
   "metadata": {},
   "outputs": [
    {
     "name": "stdout",
     "output_type": "stream",
     "text": [
      "/Users/reshamashaikh/ds/my_repos/pytorch_work\r\n"
     ]
    }
   ],
   "source": [
    "!pwd"
   ]
  },
  {
   "cell_type": "code",
   "execution_count": 19,
   "metadata": {},
   "outputs": [
    {
     "name": "stdout",
     "output_type": "stream",
     "text": [
      "total 352\r\n",
      "drwxr-xr-x  25 reshamashaikh  staff    800 Sep  9 19:03 \u001b[1m\u001b[36m..\u001b[m\u001b[m\r\n",
      "drwxr-xr-x   4 reshamashaikh  staff    128 Sep  9 19:00 \u001b[1m\u001b[36m.\u001b[m\u001b[m\r\n",
      "-rw-r--r--@  1 reshamashaikh  staff  88679 Sep  9 18:59 optimizer.pth\r\n",
      "-rw-r--r--@  1 reshamashaikh  staff  88644 Sep  9 18:59 model.pth\r\n"
     ]
    }
   ],
   "source": [
    "!ls -alt results/"
   ]
  },
  {
   "cell_type": "code",
   "execution_count": 20,
   "metadata": {},
   "outputs": [
    {
     "name": "stderr",
     "output_type": "stream",
     "text": [
      "/Users/reshamashaikh/anaconda3/lib/python3.6/site-packages/ipykernel_launcher.py:17: UserWarning: Implicit dimension choice for log_softmax has been deprecated. Change the call to include dim=X as an argument.\n",
      "/Users/reshamashaikh/anaconda3/lib/python3.6/site-packages/torch/nn/functional.py:52: UserWarning: size_average and reduce args will be deprecated, please use reduction='sum' instead.\n",
      "  warnings.warn(warning.format(ret))\n"
     ]
    },
    {
     "name": "stdout",
     "output_type": "stream",
     "text": [
      "\n",
      "Test set: Avg. loss: 2.3004, Accuracy: 751/10000 (7%)\n",
      "\n",
      "Train Epoch: 1 [0/60000 (0%)]\tLoss: 2.268457\n",
      "Train Epoch: 1 [640/60000 (1%)]\tLoss: 2.268337\n",
      "Train Epoch: 1 [1280/60000 (2%)]\tLoss: 2.274000\n",
      "Train Epoch: 1 [1920/60000 (3%)]\tLoss: 2.251669\n",
      "Train Epoch: 1 [2560/60000 (4%)]\tLoss: 2.236826\n",
      "Train Epoch: 1 [3200/60000 (5%)]\tLoss: 2.223578\n",
      "Train Epoch: 1 [3840/60000 (6%)]\tLoss: 2.153433\n",
      "Train Epoch: 1 [4480/60000 (7%)]\tLoss: 2.096480\n",
      "Train Epoch: 1 [5120/60000 (9%)]\tLoss: 1.974480\n",
      "Train Epoch: 1 [5760/60000 (10%)]\tLoss: 1.944769\n",
      "Train Epoch: 1 [6400/60000 (11%)]\tLoss: 1.839859\n",
      "Train Epoch: 1 [7040/60000 (12%)]\tLoss: 1.767560\n",
      "Train Epoch: 1 [7680/60000 (13%)]\tLoss: 1.698696\n",
      "Train Epoch: 1 [8320/60000 (14%)]\tLoss: 1.683217\n",
      "Train Epoch: 1 [8960/60000 (15%)]\tLoss: 1.504576\n",
      "Train Epoch: 1 [9600/60000 (16%)]\tLoss: 1.390305\n",
      "Train Epoch: 1 [10240/60000 (17%)]\tLoss: 1.288033\n",
      "Train Epoch: 1 [10880/60000 (18%)]\tLoss: 1.330192\n",
      "Train Epoch: 1 [11520/60000 (19%)]\tLoss: 1.279883\n",
      "Train Epoch: 1 [12160/60000 (20%)]\tLoss: 1.235908\n",
      "Train Epoch: 1 [12800/60000 (21%)]\tLoss: 0.929201\n",
      "Train Epoch: 1 [13440/60000 (22%)]\tLoss: 1.402673\n",
      "Train Epoch: 1 [14080/60000 (23%)]\tLoss: 0.968860\n",
      "Train Epoch: 1 [14720/60000 (25%)]\tLoss: 1.103062\n",
      "Train Epoch: 1 [15360/60000 (26%)]\tLoss: 0.954602\n",
      "Train Epoch: 1 [16000/60000 (27%)]\tLoss: 1.046361\n",
      "Train Epoch: 1 [16640/60000 (28%)]\tLoss: 0.949802\n",
      "Train Epoch: 1 [17280/60000 (29%)]\tLoss: 0.820482\n",
      "Train Epoch: 1 [17920/60000 (30%)]\tLoss: 1.117436\n",
      "Train Epoch: 1 [18560/60000 (31%)]\tLoss: 0.652201\n",
      "Train Epoch: 1 [19200/60000 (32%)]\tLoss: 0.933637\n",
      "Train Epoch: 1 [19840/60000 (33%)]\tLoss: 0.789951\n",
      "Train Epoch: 1 [20480/60000 (34%)]\tLoss: 0.802159\n",
      "Train Epoch: 1 [21120/60000 (35%)]\tLoss: 0.774549\n",
      "Train Epoch: 1 [21760/60000 (36%)]\tLoss: 0.952793\n",
      "Train Epoch: 1 [22400/60000 (37%)]\tLoss: 0.612974\n",
      "Train Epoch: 1 [23040/60000 (38%)]\tLoss: 0.862375\n",
      "Train Epoch: 1 [23680/60000 (39%)]\tLoss: 0.647985\n",
      "Train Epoch: 1 [24320/60000 (41%)]\tLoss: 0.809330\n",
      "Train Epoch: 1 [24960/60000 (42%)]\tLoss: 0.837345\n",
      "Train Epoch: 1 [25600/60000 (43%)]\tLoss: 0.769609\n",
      "Train Epoch: 1 [26240/60000 (44%)]\tLoss: 0.715892\n",
      "Train Epoch: 1 [26880/60000 (45%)]\tLoss: 0.748814\n",
      "Train Epoch: 1 [27520/60000 (46%)]\tLoss: 0.729970\n",
      "Train Epoch: 1 [28160/60000 (47%)]\tLoss: 0.784921\n",
      "Train Epoch: 1 [28800/60000 (48%)]\tLoss: 0.716645\n",
      "Train Epoch: 1 [29440/60000 (49%)]\tLoss: 0.665930\n",
      "Train Epoch: 1 [30080/60000 (50%)]\tLoss: 1.035501\n",
      "Train Epoch: 1 [30720/60000 (51%)]\tLoss: 0.676739\n",
      "Train Epoch: 1 [31360/60000 (52%)]\tLoss: 0.903993\n",
      "Train Epoch: 1 [32000/60000 (53%)]\tLoss: 0.714601\n",
      "Train Epoch: 1 [32640/60000 (54%)]\tLoss: 0.688204\n",
      "Train Epoch: 1 [33280/60000 (55%)]\tLoss: 0.565825\n",
      "Train Epoch: 1 [33920/60000 (57%)]\tLoss: 0.477217\n",
      "Train Epoch: 1 [34560/60000 (58%)]\tLoss: 0.771460\n",
      "Train Epoch: 1 [35200/60000 (59%)]\tLoss: 0.479832\n",
      "Train Epoch: 1 [35840/60000 (60%)]\tLoss: 0.751418\n",
      "Train Epoch: 1 [36480/60000 (61%)]\tLoss: 0.343389\n",
      "Train Epoch: 1 [37120/60000 (62%)]\tLoss: 0.395539\n",
      "Train Epoch: 1 [37760/60000 (63%)]\tLoss: 0.573714\n",
      "Train Epoch: 1 [38400/60000 (64%)]\tLoss: 0.732406\n",
      "Train Epoch: 1 [39040/60000 (65%)]\tLoss: 0.424112\n",
      "Train Epoch: 1 [39680/60000 (66%)]\tLoss: 0.488921\n",
      "Train Epoch: 1 [40320/60000 (67%)]\tLoss: 0.589369\n",
      "Train Epoch: 1 [40960/60000 (68%)]\tLoss: 0.453357\n",
      "Train Epoch: 1 [41600/60000 (69%)]\tLoss: 0.409125\n",
      "Train Epoch: 1 [42240/60000 (70%)]\tLoss: 0.600978\n",
      "Train Epoch: 1 [42880/60000 (71%)]\tLoss: 0.603253\n",
      "Train Epoch: 1 [43520/60000 (72%)]\tLoss: 0.553195\n",
      "Train Epoch: 1 [44160/60000 (74%)]\tLoss: 0.490540\n",
      "Train Epoch: 1 [44800/60000 (75%)]\tLoss: 0.605820\n",
      "Train Epoch: 1 [45440/60000 (76%)]\tLoss: 0.682253\n",
      "Train Epoch: 1 [46080/60000 (77%)]\tLoss: 0.568219\n",
      "Train Epoch: 1 [46720/60000 (78%)]\tLoss: 0.883569\n",
      "Train Epoch: 1 [47360/60000 (79%)]\tLoss: 0.387185\n",
      "Train Epoch: 1 [48000/60000 (80%)]\tLoss: 0.479298\n",
      "Train Epoch: 1 [48640/60000 (81%)]\tLoss: 0.359679\n",
      "Train Epoch: 1 [49280/60000 (82%)]\tLoss: 0.577405\n",
      "Train Epoch: 1 [49920/60000 (83%)]\tLoss: 0.383172\n",
      "Train Epoch: 1 [50560/60000 (84%)]\tLoss: 0.383821\n",
      "Train Epoch: 1 [51200/60000 (85%)]\tLoss: 0.809966\n",
      "Train Epoch: 1 [51840/60000 (86%)]\tLoss: 0.470952\n",
      "Train Epoch: 1 [52480/60000 (87%)]\tLoss: 0.636226\n",
      "Train Epoch: 1 [53120/60000 (88%)]\tLoss: 0.749249\n",
      "Train Epoch: 1 [53760/60000 (90%)]\tLoss: 0.557025\n",
      "Train Epoch: 1 [54400/60000 (91%)]\tLoss: 0.438232\n",
      "Train Epoch: 1 [55040/60000 (92%)]\tLoss: 0.692739\n",
      "Train Epoch: 1 [55680/60000 (93%)]\tLoss: 0.472270\n",
      "Train Epoch: 1 [56320/60000 (94%)]\tLoss: 0.527068\n",
      "Train Epoch: 1 [56960/60000 (95%)]\tLoss: 0.553923\n",
      "Train Epoch: 1 [57600/60000 (96%)]\tLoss: 0.350917\n",
      "Train Epoch: 1 [58240/60000 (97%)]\tLoss: 0.477548\n",
      "Train Epoch: 1 [58880/60000 (98%)]\tLoss: 0.325145\n",
      "Train Epoch: 1 [59520/60000 (99%)]\tLoss: 0.469667\n",
      "\n",
      "Test set: Avg. loss: 0.1993, Accuracy: 9448/10000 (94%)\n",
      "\n",
      "Train Epoch: 2 [0/60000 (0%)]\tLoss: 0.531821\n",
      "Train Epoch: 2 [640/60000 (1%)]\tLoss: 0.298408\n",
      "Train Epoch: 2 [1280/60000 (2%)]\tLoss: 0.390923\n",
      "Train Epoch: 2 [1920/60000 (3%)]\tLoss: 0.296326\n",
      "Train Epoch: 2 [2560/60000 (4%)]\tLoss: 0.454467\n",
      "Train Epoch: 2 [3200/60000 (5%)]\tLoss: 0.699790\n",
      "Train Epoch: 2 [3840/60000 (6%)]\tLoss: 0.527593\n",
      "Train Epoch: 2 [4480/60000 (7%)]\tLoss: 0.440667\n",
      "Train Epoch: 2 [5120/60000 (9%)]\tLoss: 0.381240\n",
      "Train Epoch: 2 [5760/60000 (10%)]\tLoss: 0.476761\n",
      "Train Epoch: 2 [6400/60000 (11%)]\tLoss: 0.519168\n",
      "Train Epoch: 2 [7040/60000 (12%)]\tLoss: 0.417260\n",
      "Train Epoch: 2 [7680/60000 (13%)]\tLoss: 0.316643\n",
      "Train Epoch: 2 [8320/60000 (14%)]\tLoss: 0.347536\n",
      "Train Epoch: 2 [8960/60000 (15%)]\tLoss: 0.409216\n",
      "Train Epoch: 2 [9600/60000 (16%)]\tLoss: 0.374140\n",
      "Train Epoch: 2 [10240/60000 (17%)]\tLoss: 0.409780\n",
      "Train Epoch: 2 [10880/60000 (18%)]\tLoss: 0.598818\n",
      "Train Epoch: 2 [11520/60000 (19%)]\tLoss: 0.569448\n",
      "Train Epoch: 2 [12160/60000 (20%)]\tLoss: 0.498549\n",
      "Train Epoch: 2 [12800/60000 (21%)]\tLoss: 0.403275\n",
      "Train Epoch: 2 [13440/60000 (22%)]\tLoss: 0.496089\n",
      "Train Epoch: 2 [14080/60000 (23%)]\tLoss: 0.386253\n",
      "Train Epoch: 2 [14720/60000 (25%)]\tLoss: 0.333122\n",
      "Train Epoch: 2 [15360/60000 (26%)]\tLoss: 0.567272\n",
      "Train Epoch: 2 [16000/60000 (27%)]\tLoss: 0.383413\n",
      "Train Epoch: 2 [16640/60000 (28%)]\tLoss: 0.537125\n",
      "Train Epoch: 2 [17280/60000 (29%)]\tLoss: 0.385770\n",
      "Train Epoch: 2 [17920/60000 (30%)]\tLoss: 0.336460\n",
      "Train Epoch: 2 [18560/60000 (31%)]\tLoss: 0.371672\n",
      "Train Epoch: 2 [19200/60000 (32%)]\tLoss: 0.502416\n",
      "Train Epoch: 2 [19840/60000 (33%)]\tLoss: 0.353065\n",
      "Train Epoch: 2 [20480/60000 (34%)]\tLoss: 0.394537\n",
      "Train Epoch: 2 [21120/60000 (35%)]\tLoss: 0.710008\n",
      "Train Epoch: 2 [21760/60000 (36%)]\tLoss: 0.423827\n",
      "Train Epoch: 2 [22400/60000 (37%)]\tLoss: 0.428346\n",
      "Train Epoch: 2 [23040/60000 (38%)]\tLoss: 0.457201\n",
      "Train Epoch: 2 [23680/60000 (39%)]\tLoss: 0.425397\n",
      "Train Epoch: 2 [24320/60000 (41%)]\tLoss: 0.344240\n",
      "Train Epoch: 2 [24960/60000 (42%)]\tLoss: 0.346958\n",
      "Train Epoch: 2 [25600/60000 (43%)]\tLoss: 0.477024\n",
      "Train Epoch: 2 [26240/60000 (44%)]\tLoss: 0.337569\n",
      "Train Epoch: 2 [26880/60000 (45%)]\tLoss: 0.434462\n",
      "Train Epoch: 2 [27520/60000 (46%)]\tLoss: 0.361211\n",
      "Train Epoch: 2 [28160/60000 (47%)]\tLoss: 0.322164\n",
      "Train Epoch: 2 [28800/60000 (48%)]\tLoss: 0.458440\n",
      "Train Epoch: 2 [29440/60000 (49%)]\tLoss: 0.420959\n",
      "Train Epoch: 2 [30080/60000 (50%)]\tLoss: 0.657778\n",
      "Train Epoch: 2 [30720/60000 (51%)]\tLoss: 0.367998\n",
      "Train Epoch: 2 [31360/60000 (52%)]\tLoss: 0.410110\n",
      "Train Epoch: 2 [32000/60000 (53%)]\tLoss: 0.443114\n",
      "Train Epoch: 2 [32640/60000 (54%)]\tLoss: 0.337164\n",
      "Train Epoch: 2 [33280/60000 (55%)]\tLoss: 0.299278\n",
      "Train Epoch: 2 [33920/60000 (57%)]\tLoss: 0.391241\n",
      "Train Epoch: 2 [34560/60000 (58%)]\tLoss: 0.424847\n",
      "Train Epoch: 2 [35200/60000 (59%)]\tLoss: 0.630892\n",
      "Train Epoch: 2 [35840/60000 (60%)]\tLoss: 0.229989\n",
      "Train Epoch: 2 [36480/60000 (61%)]\tLoss: 0.505679\n",
      "Train Epoch: 2 [37120/60000 (62%)]\tLoss: 0.396738\n",
      "Train Epoch: 2 [37760/60000 (63%)]\tLoss: 0.364173\n",
      "Train Epoch: 2 [38400/60000 (64%)]\tLoss: 0.218783\n",
      "Train Epoch: 2 [39040/60000 (65%)]\tLoss: 0.319584\n",
      "Train Epoch: 2 [39680/60000 (66%)]\tLoss: 0.378838\n",
      "Train Epoch: 2 [40320/60000 (67%)]\tLoss: 0.368668\n",
      "Train Epoch: 2 [40960/60000 (68%)]\tLoss: 0.351611\n",
      "Train Epoch: 2 [41600/60000 (69%)]\tLoss: 0.323473\n",
      "Train Epoch: 2 [42240/60000 (70%)]\tLoss: 0.174097\n",
      "Train Epoch: 2 [42880/60000 (71%)]\tLoss: 0.229271\n",
      "Train Epoch: 2 [43520/60000 (72%)]\tLoss: 0.372507\n"
     ]
    },
    {
     "name": "stdout",
     "output_type": "stream",
     "text": [
      "Train Epoch: 2 [44160/60000 (74%)]\tLoss: 0.393642\n",
      "Train Epoch: 2 [44800/60000 (75%)]\tLoss: 0.442717\n",
      "Train Epoch: 2 [45440/60000 (76%)]\tLoss: 0.463577\n",
      "Train Epoch: 2 [46080/60000 (77%)]\tLoss: 0.427027\n",
      "Train Epoch: 2 [46720/60000 (78%)]\tLoss: 0.275933\n",
      "Train Epoch: 2 [47360/60000 (79%)]\tLoss: 0.295601\n",
      "Train Epoch: 2 [48000/60000 (80%)]\tLoss: 0.501371\n",
      "Train Epoch: 2 [48640/60000 (81%)]\tLoss: 0.377403\n",
      "Train Epoch: 2 [49280/60000 (82%)]\tLoss: 0.369651\n",
      "Train Epoch: 2 [49920/60000 (83%)]\tLoss: 0.308886\n",
      "Train Epoch: 2 [50560/60000 (84%)]\tLoss: 0.294277\n",
      "Train Epoch: 2 [51200/60000 (85%)]\tLoss: 0.434442\n",
      "Train Epoch: 2 [51840/60000 (86%)]\tLoss: 0.187995\n",
      "Train Epoch: 2 [52480/60000 (87%)]\tLoss: 0.401114\n",
      "Train Epoch: 2 [53120/60000 (88%)]\tLoss: 0.389478\n",
      "Train Epoch: 2 [53760/60000 (90%)]\tLoss: 0.303114\n",
      "Train Epoch: 2 [54400/60000 (91%)]\tLoss: 0.321399\n",
      "Train Epoch: 2 [55040/60000 (92%)]\tLoss: 0.358861\n",
      "Train Epoch: 2 [55680/60000 (93%)]\tLoss: 0.668371\n",
      "Train Epoch: 2 [56320/60000 (94%)]\tLoss: 0.329797\n",
      "Train Epoch: 2 [56960/60000 (95%)]\tLoss: 0.570076\n",
      "Train Epoch: 2 [57600/60000 (96%)]\tLoss: 0.387010\n",
      "Train Epoch: 2 [58240/60000 (97%)]\tLoss: 0.274047\n",
      "Train Epoch: 2 [58880/60000 (98%)]\tLoss: 0.206367\n",
      "Train Epoch: 2 [59520/60000 (99%)]\tLoss: 0.329572\n",
      "\n",
      "Test set: Avg. loss: 0.1276, Accuracy: 9609/10000 (96%)\n",
      "\n",
      "Train Epoch: 3 [0/60000 (0%)]\tLoss: 0.286267\n",
      "Train Epoch: 3 [640/60000 (1%)]\tLoss: 0.318969\n",
      "Train Epoch: 3 [1280/60000 (2%)]\tLoss: 0.370253\n",
      "Train Epoch: 3 [1920/60000 (3%)]\tLoss: 0.280029\n",
      "Train Epoch: 3 [2560/60000 (4%)]\tLoss: 0.398844\n",
      "Train Epoch: 3 [3200/60000 (5%)]\tLoss: 0.450489\n",
      "Train Epoch: 3 [3840/60000 (6%)]\tLoss: 0.392160\n",
      "Train Epoch: 3 [4480/60000 (7%)]\tLoss: 0.149149\n",
      "Train Epoch: 3 [5120/60000 (9%)]\tLoss: 0.255990\n",
      "Train Epoch: 3 [5760/60000 (10%)]\tLoss: 0.430707\n",
      "Train Epoch: 3 [6400/60000 (11%)]\tLoss: 0.381762\n",
      "Train Epoch: 3 [7040/60000 (12%)]\tLoss: 0.258962\n",
      "Train Epoch: 3 [7680/60000 (13%)]\tLoss: 0.389817\n",
      "Train Epoch: 3 [8320/60000 (14%)]\tLoss: 0.232736\n",
      "Train Epoch: 3 [8960/60000 (15%)]\tLoss: 0.409238\n",
      "Train Epoch: 3 [9600/60000 (16%)]\tLoss: 0.395083\n",
      "Train Epoch: 3 [10240/60000 (17%)]\tLoss: 0.461224\n",
      "Train Epoch: 3 [10880/60000 (18%)]\tLoss: 0.318871\n",
      "Train Epoch: 3 [11520/60000 (19%)]\tLoss: 0.260497\n",
      "Train Epoch: 3 [12160/60000 (20%)]\tLoss: 0.444545\n",
      "Train Epoch: 3 [12800/60000 (21%)]\tLoss: 0.302426\n",
      "Train Epoch: 3 [13440/60000 (22%)]\tLoss: 0.216515\n",
      "Train Epoch: 3 [14080/60000 (23%)]\tLoss: 0.215907\n",
      "Train Epoch: 3 [14720/60000 (25%)]\tLoss: 0.269116\n",
      "Train Epoch: 3 [15360/60000 (26%)]\tLoss: 0.185272\n",
      "Train Epoch: 3 [16000/60000 (27%)]\tLoss: 0.423837\n",
      "Train Epoch: 3 [16640/60000 (28%)]\tLoss: 0.284008\n",
      "Train Epoch: 3 [17280/60000 (29%)]\tLoss: 0.468818\n",
      "Train Epoch: 3 [17920/60000 (30%)]\tLoss: 0.267990\n",
      "Train Epoch: 3 [18560/60000 (31%)]\tLoss: 0.173329\n",
      "Train Epoch: 3 [19200/60000 (32%)]\tLoss: 0.577916\n",
      "Train Epoch: 3 [19840/60000 (33%)]\tLoss: 0.226929\n",
      "Train Epoch: 3 [20480/60000 (34%)]\tLoss: 0.339383\n",
      "Train Epoch: 3 [21120/60000 (35%)]\tLoss: 0.348170\n",
      "Train Epoch: 3 [21760/60000 (36%)]\tLoss: 0.292269\n",
      "Train Epoch: 3 [22400/60000 (37%)]\tLoss: 0.327645\n",
      "Train Epoch: 3 [23040/60000 (38%)]\tLoss: 0.409464\n",
      "Train Epoch: 3 [23680/60000 (39%)]\tLoss: 0.295643\n",
      "Train Epoch: 3 [24320/60000 (41%)]\tLoss: 0.307605\n",
      "Train Epoch: 3 [24960/60000 (42%)]\tLoss: 0.137911\n",
      "Train Epoch: 3 [25600/60000 (43%)]\tLoss: 0.275051\n",
      "Train Epoch: 3 [26240/60000 (44%)]\tLoss: 0.446672\n",
      "Train Epoch: 3 [26880/60000 (45%)]\tLoss: 0.249042\n",
      "Train Epoch: 3 [27520/60000 (46%)]\tLoss: 0.362160\n",
      "Train Epoch: 3 [28160/60000 (47%)]\tLoss: 0.219220\n",
      "Train Epoch: 3 [28800/60000 (48%)]\tLoss: 0.148905\n",
      "Train Epoch: 3 [29440/60000 (49%)]\tLoss: 0.193926\n",
      "Train Epoch: 3 [30080/60000 (50%)]\tLoss: 0.229095\n",
      "Train Epoch: 3 [30720/60000 (51%)]\tLoss: 0.317144\n",
      "Train Epoch: 3 [31360/60000 (52%)]\tLoss: 0.354480\n",
      "Train Epoch: 3 [32000/60000 (53%)]\tLoss: 0.311728\n",
      "Train Epoch: 3 [32640/60000 (54%)]\tLoss: 0.358794\n",
      "Train Epoch: 3 [33280/60000 (55%)]\tLoss: 0.354594\n",
      "Train Epoch: 3 [33920/60000 (57%)]\tLoss: 0.181309\n",
      "Train Epoch: 3 [34560/60000 (58%)]\tLoss: 0.293231\n",
      "Train Epoch: 3 [35200/60000 (59%)]\tLoss: 0.177264\n",
      "Train Epoch: 3 [35840/60000 (60%)]\tLoss: 0.324110\n",
      "Train Epoch: 3 [36480/60000 (61%)]\tLoss: 0.164548\n",
      "Train Epoch: 3 [37120/60000 (62%)]\tLoss: 0.401945\n",
      "Train Epoch: 3 [37760/60000 (63%)]\tLoss: 0.305814\n",
      "Train Epoch: 3 [38400/60000 (64%)]\tLoss: 0.196075\n",
      "Train Epoch: 3 [39040/60000 (65%)]\tLoss: 0.340714\n",
      "Train Epoch: 3 [39680/60000 (66%)]\tLoss: 0.150273\n",
      "Train Epoch: 3 [40320/60000 (67%)]\tLoss: 0.276288\n",
      "Train Epoch: 3 [40960/60000 (68%)]\tLoss: 0.312107\n",
      "Train Epoch: 3 [41600/60000 (69%)]\tLoss: 0.155868\n",
      "Train Epoch: 3 [42240/60000 (70%)]\tLoss: 0.194016\n",
      "Train Epoch: 3 [42880/60000 (71%)]\tLoss: 0.220649\n",
      "Train Epoch: 3 [43520/60000 (72%)]\tLoss: 0.249744\n",
      "Train Epoch: 3 [44160/60000 (74%)]\tLoss: 0.314265\n",
      "Train Epoch: 3 [44800/60000 (75%)]\tLoss: 0.237973\n",
      "Train Epoch: 3 [45440/60000 (76%)]\tLoss: 0.244062\n",
      "Train Epoch: 3 [46080/60000 (77%)]\tLoss: 0.294997\n",
      "Train Epoch: 3 [46720/60000 (78%)]\tLoss: 0.482271\n",
      "Train Epoch: 3 [47360/60000 (79%)]\tLoss: 0.354813\n",
      "Train Epoch: 3 [48000/60000 (80%)]\tLoss: 0.422425\n",
      "Train Epoch: 3 [48640/60000 (81%)]\tLoss: 0.221815\n",
      "Train Epoch: 3 [49280/60000 (82%)]\tLoss: 0.161245\n",
      "Train Epoch: 3 [49920/60000 (83%)]\tLoss: 0.480614\n",
      "Train Epoch: 3 [50560/60000 (84%)]\tLoss: 0.292338\n",
      "Train Epoch: 3 [51200/60000 (85%)]\tLoss: 0.267622\n",
      "Train Epoch: 3 [51840/60000 (86%)]\tLoss: 0.231179\n",
      "Train Epoch: 3 [52480/60000 (87%)]\tLoss: 0.216788\n",
      "Train Epoch: 3 [53120/60000 (88%)]\tLoss: 0.233452\n",
      "Train Epoch: 3 [53760/60000 (90%)]\tLoss: 0.403417\n",
      "Train Epoch: 3 [54400/60000 (91%)]\tLoss: 0.443670\n",
      "Train Epoch: 3 [55040/60000 (92%)]\tLoss: 0.306311\n",
      "Train Epoch: 3 [55680/60000 (93%)]\tLoss: 0.258153\n",
      "Train Epoch: 3 [56320/60000 (94%)]\tLoss: 0.314468\n",
      "Train Epoch: 3 [56960/60000 (95%)]\tLoss: 0.324002\n",
      "Train Epoch: 3 [57600/60000 (96%)]\tLoss: 0.182694\n",
      "Train Epoch: 3 [58240/60000 (97%)]\tLoss: 0.100083\n",
      "Train Epoch: 3 [58880/60000 (98%)]\tLoss: 0.186837\n",
      "Train Epoch: 3 [59520/60000 (99%)]\tLoss: 0.318564\n",
      "\n",
      "Test set: Avg. loss: 0.0931, Accuracy: 9717/10000 (97%)\n",
      "\n"
     ]
    }
   ],
   "source": [
    "test()\n",
    "for epoch in range(1, n_epochs + 1):\n",
    "  train(epoch)\n",
    "  test()"
   ]
  },
  {
   "cell_type": "code",
   "execution_count": 21,
   "metadata": {},
   "outputs": [
    {
     "data": {
      "image/png": "[encoded data removed]",
      "text/plain": [
       "<Figure size 432x288 with 1 Axes>"
      ]
     },
     "execution_count": 21,
     "metadata": {},
     "output_type": "execute_result"
    },
    {
     "data": {
      "image/png": "[encoded data removed]",
      "text/plain": [
       "<Figure size 432x288 with 1 Axes>"
      ]
     },
     "metadata": {},
     "output_type": "display_data"
    }
   ],
   "source": [
    "fig = plt.figure()\n",
    "plt.plot(train_counter, train_losses, color='blue')\n",
    "plt.scatter(test_counter, test_losses, color='red')\n",
    "plt.legend(['Train Loss', 'Test Loss'], loc='upper right')\n",
    "plt.xlabel('number of training examples seen')\n",
    "plt.ylabel('negative log likelihood loss')\n",
    "fig"
   ]
  },
  {
   "cell_type": "code",
   "execution_count": 22,
   "metadata": {},
   "outputs": [
    {
     "name": "stderr",
     "output_type": "stream",
     "text": [
      "/Users/reshamashaikh/anaconda3/lib/python3.6/site-packages/ipykernel_launcher.py:17: UserWarning: Implicit dimension choice for log_softmax has been deprecated. Change the call to include dim=X as an argument.\n"
     ]
    }
   ],
   "source": [
    "with torch.no_grad():\n",
    "  output = network(example_data)"
   ]
  },
  {
   "cell_type": "code",
   "execution_count": 23,
   "metadata": {},
   "outputs": [
    {
     "data": {
      "image/png": "[encoded data removed]",
      "text/plain": [
       "<Figure size 432x288 with 6 Axes>"
      ]
     },
     "execution_count": 23,
     "metadata": {},
     "output_type": "execute_result"
    },
    {
     "data": {
      "image/png": "[encoded data removed]",
      "text/plain": [
       "<Figure size 432x288 with 6 Axes>"
      ]
     },
     "metadata": {},
     "output_type": "display_data"
    }
   ],
   "source": [
    "fig = plt.figure()\n",
    "for i in range(6):\n",
    "  plt.subplot(2,3,i+1)\n",
    "  plt.tight_layout()\n",
    "  plt.imshow(example_data[i][0], cmap='gray', interpolation='none')\n",
    "  plt.title(\"Prediction: {}\".format(\n",
    "    output.data.max(1, keepdim=True)[1][i].item()))\n",
    "  plt.xticks([])\n",
    "  plt.yticks([])\n",
    "fig"
   ]
  },
  {
   "cell_type": "code",
   "execution_count": 24,
   "metadata": {},
   "outputs": [],
   "source": [
    "continued_network = Net()\n",
    "continued_optimizer = optim.SGD(network.parameters(), lr=learning_rate,\n",
    "                                momentum=momentum)"
   ]
  },
  {
   "cell_type": "code",
   "execution_count": 28,
   "metadata": {},
   "outputs": [],
   "source": [
    "network_state_dict = torch.load(path+\"/results/model.pth\")\n",
    "continued_network.load_state_dict(network_state_dict)\n",
    "\n",
    "optimizer_state_dict = torch.load(path+\"/results/optimizer.pth\")\n",
    "continued_optimizer.load_state_dict(optimizer_state_dict)"
   ]
  },
  {
   "cell_type": "code",
   "execution_count": 30,
   "metadata": {},
   "outputs": [
    {
     "name": "stderr",
     "output_type": "stream",
     "text": [
      "/Users/reshamashaikh/anaconda3/lib/python3.6/site-packages/ipykernel_launcher.py:17: UserWarning: Implicit dimension choice for log_softmax has been deprecated. Change the call to include dim=X as an argument.\n"
     ]
    },
    {
     "name": "stdout",
     "output_type": "stream",
     "text": [
      "Train Epoch: 4 [0/60000 (0%)]\tLoss: 0.336695\n",
      "Train Epoch: 4 [640/60000 (1%)]\tLoss: 0.306707\n",
      "Train Epoch: 4 [1280/60000 (2%)]\tLoss: 0.185555\n",
      "Train Epoch: 4 [1920/60000 (3%)]\tLoss: 0.146900\n",
      "Train Epoch: 4 [2560/60000 (4%)]\tLoss: 0.365619\n",
      "Train Epoch: 4 [3200/60000 (5%)]\tLoss: 0.549900\n",
      "Train Epoch: 4 [3840/60000 (6%)]\tLoss: 0.280854\n",
      "Train Epoch: 4 [4480/60000 (7%)]\tLoss: 0.273564\n",
      "Train Epoch: 4 [5120/60000 (9%)]\tLoss: 0.331231\n",
      "Train Epoch: 4 [5760/60000 (10%)]\tLoss: 0.234535\n",
      "Train Epoch: 4 [6400/60000 (11%)]\tLoss: 0.519704\n",
      "Train Epoch: 4 [7040/60000 (12%)]\tLoss: 0.178662\n",
      "Train Epoch: 4 [7680/60000 (13%)]\tLoss: 0.256430\n",
      "Train Epoch: 4 [8320/60000 (14%)]\tLoss: 0.175601\n",
      "Train Epoch: 4 [8960/60000 (15%)]\tLoss: 0.307423\n",
      "Train Epoch: 4 [9600/60000 (16%)]\tLoss: 0.181119\n",
      "Train Epoch: 4 [10240/60000 (17%)]\tLoss: 0.156435\n",
      "Train Epoch: 4 [10880/60000 (18%)]\tLoss: 0.246857\n",
      "Train Epoch: 4 [11520/60000 (19%)]\tLoss: 0.320857\n",
      "Train Epoch: 4 [12160/60000 (20%)]\tLoss: 0.304997\n",
      "Train Epoch: 4 [12800/60000 (21%)]\tLoss: 0.322661\n",
      "Train Epoch: 4 [13440/60000 (22%)]\tLoss: 0.401481\n",
      "Train Epoch: 4 [14080/60000 (23%)]\tLoss: 0.257602\n",
      "Train Epoch: 4 [14720/60000 (25%)]\tLoss: 0.365812\n",
      "Train Epoch: 4 [15360/60000 (26%)]\tLoss: 0.082743\n",
      "Train Epoch: 4 [16000/60000 (27%)]\tLoss: 0.202115\n",
      "Train Epoch: 4 [16640/60000 (28%)]\tLoss: 0.311410\n",
      "Train Epoch: 4 [17280/60000 (29%)]\tLoss: 0.188295\n",
      "Train Epoch: 4 [17920/60000 (30%)]\tLoss: 0.224179\n",
      "Train Epoch: 4 [18560/60000 (31%)]\tLoss: 0.197468\n",
      "Train Epoch: 4 [19200/60000 (32%)]\tLoss: 0.166241\n",
      "Train Epoch: 4 [19840/60000 (33%)]\tLoss: 0.106993\n",
      "Train Epoch: 4 [20480/60000 (34%)]\tLoss: 0.475685\n",
      "Train Epoch: 4 [21120/60000 (35%)]\tLoss: 0.253928\n",
      "Train Epoch: 4 [21760/60000 (36%)]\tLoss: 0.362555\n",
      "Train Epoch: 4 [22400/60000 (37%)]\tLoss: 0.190246\n",
      "Train Epoch: 4 [23040/60000 (38%)]\tLoss: 0.308348\n",
      "Train Epoch: 4 [23680/60000 (39%)]\tLoss: 0.176562\n",
      "Train Epoch: 4 [24320/60000 (41%)]\tLoss: 0.272653\n",
      "Train Epoch: 4 [24960/60000 (42%)]\tLoss: 0.175523\n",
      "Train Epoch: 4 [25600/60000 (43%)]\tLoss: 0.206651\n",
      "Train Epoch: 4 [26240/60000 (44%)]\tLoss: 0.258611\n",
      "Train Epoch: 4 [26880/60000 (45%)]\tLoss: 0.382757\n",
      "Train Epoch: 4 [27520/60000 (46%)]\tLoss: 0.221588\n",
      "Train Epoch: 4 [28160/60000 (47%)]\tLoss: 0.077142\n",
      "Train Epoch: 4 [28800/60000 (48%)]\tLoss: 0.347047\n",
      "Train Epoch: 4 [29440/60000 (49%)]\tLoss: 0.303350\n",
      "Train Epoch: 4 [30080/60000 (50%)]\tLoss: 0.149372\n",
      "Train Epoch: 4 [30720/60000 (51%)]\tLoss: 0.314843\n",
      "Train Epoch: 4 [31360/60000 (52%)]\tLoss: 0.319974\n",
      "Train Epoch: 4 [32000/60000 (53%)]\tLoss: 0.095901\n",
      "Train Epoch: 4 [32640/60000 (54%)]\tLoss: 0.242459\n",
      "Train Epoch: 4 [33280/60000 (55%)]\tLoss: 0.172152\n",
      "Train Epoch: 4 [33920/60000 (57%)]\tLoss: 0.439197\n",
      "Train Epoch: 4 [34560/60000 (58%)]\tLoss: 0.341999\n",
      "Train Epoch: 4 [35200/60000 (59%)]\tLoss: 0.285151\n",
      "Train Epoch: 4 [35840/60000 (60%)]\tLoss: 0.328521\n",
      "Train Epoch: 4 [36480/60000 (61%)]\tLoss: 0.565608\n",
      "Train Epoch: 4 [37120/60000 (62%)]\tLoss: 0.142099\n",
      "Train Epoch: 4 [37760/60000 (63%)]\tLoss: 0.329082\n",
      "Train Epoch: 4 [38400/60000 (64%)]\tLoss: 0.222071\n",
      "Train Epoch: 4 [39040/60000 (65%)]\tLoss: 0.124150\n",
      "Train Epoch: 4 [39680/60000 (66%)]\tLoss: 0.148904\n",
      "Train Epoch: 4 [40320/60000 (67%)]\tLoss: 0.135613\n",
      "Train Epoch: 4 [40960/60000 (68%)]\tLoss: 0.124124\n",
      "Train Epoch: 4 [41600/60000 (69%)]\tLoss: 0.259018\n",
      "Train Epoch: 4 [42240/60000 (70%)]\tLoss: 0.168866\n",
      "Train Epoch: 4 [42880/60000 (71%)]\tLoss: 0.391322\n",
      "Train Epoch: 4 [43520/60000 (72%)]\tLoss: 0.223904\n",
      "Train Epoch: 4 [44160/60000 (74%)]\tLoss: 0.443045\n",
      "Train Epoch: 4 [44800/60000 (75%)]\tLoss: 0.122171\n",
      "Train Epoch: 4 [45440/60000 (76%)]\tLoss: 0.260667\n",
      "Train Epoch: 4 [46080/60000 (77%)]\tLoss: 0.305520\n",
      "Train Epoch: 4 [46720/60000 (78%)]\tLoss: 0.200105\n",
      "Train Epoch: 4 [47360/60000 (79%)]\tLoss: 0.346347\n",
      "Train Epoch: 4 [48000/60000 (80%)]\tLoss: 0.297929\n",
      "Train Epoch: 4 [48640/60000 (81%)]\tLoss: 0.149104\n",
      "Train Epoch: 4 [49280/60000 (82%)]\tLoss: 0.286025\n",
      "Train Epoch: 4 [49920/60000 (83%)]\tLoss: 0.150700\n",
      "Train Epoch: 4 [50560/60000 (84%)]\tLoss: 0.210236\n",
      "Train Epoch: 4 [51200/60000 (85%)]\tLoss: 0.471997\n",
      "Train Epoch: 4 [51840/60000 (86%)]\tLoss: 0.183071\n",
      "Train Epoch: 4 [52480/60000 (87%)]\tLoss: 0.191059\n",
      "Train Epoch: 4 [53120/60000 (88%)]\tLoss: 0.167894\n",
      "Train Epoch: 4 [53760/60000 (90%)]\tLoss: 0.189709\n",
      "Train Epoch: 4 [54400/60000 (91%)]\tLoss: 0.177596\n",
      "Train Epoch: 4 [55040/60000 (92%)]\tLoss: 0.178236\n",
      "Train Epoch: 4 [55680/60000 (93%)]\tLoss: 0.251024\n",
      "Train Epoch: 4 [56320/60000 (94%)]\tLoss: 0.402483\n",
      "Train Epoch: 4 [56960/60000 (95%)]\tLoss: 0.137361\n",
      "Train Epoch: 4 [57600/60000 (96%)]\tLoss: 0.575196\n",
      "Train Epoch: 4 [58240/60000 (97%)]\tLoss: 0.348511\n",
      "Train Epoch: 4 [58880/60000 (98%)]\tLoss: 0.150290\n",
      "Train Epoch: 4 [59520/60000 (99%)]\tLoss: 0.352647\n"
     ]
    },
    {
     "name": "stderr",
     "output_type": "stream",
     "text": [
      "/Users/reshamashaikh/anaconda3/lib/python3.6/site-packages/torch/nn/functional.py:52: UserWarning: size_average and reduce args will be deprecated, please use reduction='sum' instead.\n",
      "  warnings.warn(warning.format(ret))\n"
     ]
    },
    {
     "name": "stdout",
     "output_type": "stream",
     "text": [
      "\n",
      "Test set: Avg. loss: 0.0830, Accuracy: 9739/10000 (97%)\n",
      "\n",
      "Train Epoch: 5 [0/60000 (0%)]\tLoss: 0.356398\n",
      "Train Epoch: 5 [640/60000 (1%)]\tLoss: 0.222335\n",
      "Train Epoch: 5 [1280/60000 (2%)]\tLoss: 0.295047\n",
      "Train Epoch: 5 [1920/60000 (3%)]\tLoss: 0.247533\n",
      "Train Epoch: 5 [2560/60000 (4%)]\tLoss: 0.268116\n",
      "Train Epoch: 5 [3200/60000 (5%)]\tLoss: 0.353854\n",
      "Train Epoch: 5 [3840/60000 (6%)]\tLoss: 0.323136\n",
      "Train Epoch: 5 [4480/60000 (7%)]\tLoss: 0.152969\n",
      "Train Epoch: 5 [5120/60000 (9%)]\tLoss: 0.267971\n",
      "Train Epoch: 5 [5760/60000 (10%)]\tLoss: 0.307030\n",
      "Train Epoch: 5 [6400/60000 (11%)]\tLoss: 0.135999\n",
      "Train Epoch: 5 [7040/60000 (12%)]\tLoss: 0.253459\n",
      "Train Epoch: 5 [7680/60000 (13%)]\tLoss: 0.148375\n",
      "Train Epoch: 5 [8320/60000 (14%)]\tLoss: 0.225295\n",
      "Train Epoch: 5 [8960/60000 (15%)]\tLoss: 0.179877\n",
      "Train Epoch: 5 [9600/60000 (16%)]\tLoss: 0.190462\n",
      "Train Epoch: 5 [10240/60000 (17%)]\tLoss: 0.262659\n",
      "Train Epoch: 5 [10880/60000 (18%)]\tLoss: 0.392993\n",
      "Train Epoch: 5 [11520/60000 (19%)]\tLoss: 0.134605\n",
      "Train Epoch: 5 [12160/60000 (20%)]\tLoss: 0.257212\n",
      "Train Epoch: 5 [12800/60000 (21%)]\tLoss: 0.512682\n",
      "Train Epoch: 5 [13440/60000 (22%)]\tLoss: 0.356324\n",
      "Train Epoch: 5 [14080/60000 (23%)]\tLoss: 0.210684\n",
      "Train Epoch: 5 [14720/60000 (25%)]\tLoss: 0.232521\n",
      "Train Epoch: 5 [15360/60000 (26%)]\tLoss: 0.273330\n",
      "Train Epoch: 5 [16000/60000 (27%)]\tLoss: 0.205015\n",
      "Train Epoch: 5 [16640/60000 (28%)]\tLoss: 0.149534\n",
      "Train Epoch: 5 [17280/60000 (29%)]\tLoss: 0.224285\n",
      "Train Epoch: 5 [17920/60000 (30%)]\tLoss: 0.106426\n",
      "Train Epoch: 5 [18560/60000 (31%)]\tLoss: 0.174325\n",
      "Train Epoch: 5 [19200/60000 (32%)]\tLoss: 0.201329\n",
      "Train Epoch: 5 [19840/60000 (33%)]\tLoss: 0.210837\n",
      "Train Epoch: 5 [20480/60000 (34%)]\tLoss: 0.346662\n",
      "Train Epoch: 5 [21120/60000 (35%)]\tLoss: 0.191634\n",
      "Train Epoch: 5 [21760/60000 (36%)]\tLoss: 0.168466\n",
      "Train Epoch: 5 [22400/60000 (37%)]\tLoss: 0.359013\n",
      "Train Epoch: 5 [23040/60000 (38%)]\tLoss: 0.181542\n",
      "Train Epoch: 5 [23680/60000 (39%)]\tLoss: 0.177184\n",
      "Train Epoch: 5 [24320/60000 (41%)]\tLoss: 0.118744\n",
      "Train Epoch: 5 [24960/60000 (42%)]\tLoss: 0.232439\n",
      "Train Epoch: 5 [25600/60000 (43%)]\tLoss: 0.131060\n",
      "Train Epoch: 5 [26240/60000 (44%)]\tLoss: 0.174535\n",
      "Train Epoch: 5 [26880/60000 (45%)]\tLoss: 0.279811\n",
      "Train Epoch: 5 [27520/60000 (46%)]\tLoss: 0.393155\n",
      "Train Epoch: 5 [28160/60000 (47%)]\tLoss: 0.351796\n",
      "Train Epoch: 5 [28800/60000 (48%)]\tLoss: 0.158860\n",
      "Train Epoch: 5 [29440/60000 (49%)]\tLoss: 0.301303\n",
      "Train Epoch: 5 [30080/60000 (50%)]\tLoss: 0.166905\n",
      "Train Epoch: 5 [30720/60000 (51%)]\tLoss: 0.260688\n",
      "Train Epoch: 5 [31360/60000 (52%)]\tLoss: 0.351475\n",
      "Train Epoch: 5 [32000/60000 (53%)]\tLoss: 0.280822\n",
      "Train Epoch: 5 [32640/60000 (54%)]\tLoss: 0.276833\n",
      "Train Epoch: 5 [33280/60000 (55%)]\tLoss: 0.147176\n",
      "Train Epoch: 5 [33920/60000 (57%)]\tLoss: 0.071188\n",
      "Train Epoch: 5 [34560/60000 (58%)]\tLoss: 0.085845\n",
      "Train Epoch: 5 [35200/60000 (59%)]\tLoss: 0.158195\n",
      "Train Epoch: 5 [35840/60000 (60%)]\tLoss: 0.142658\n",
      "Train Epoch: 5 [36480/60000 (61%)]\tLoss: 0.236708\n",
      "Train Epoch: 5 [37120/60000 (62%)]\tLoss: 0.318754\n",
      "Train Epoch: 5 [37760/60000 (63%)]\tLoss: 0.245265\n",
      "Train Epoch: 5 [38400/60000 (64%)]\tLoss: 0.120886\n",
      "Train Epoch: 5 [39040/60000 (65%)]\tLoss: 0.284808\n",
      "Train Epoch: 5 [39680/60000 (66%)]\tLoss: 0.112680\n",
      "Train Epoch: 5 [40320/60000 (67%)]\tLoss: 0.354440\n",
      "Train Epoch: 5 [40960/60000 (68%)]\tLoss: 0.440788\n",
      "Train Epoch: 5 [41600/60000 (69%)]\tLoss: 0.347017\n",
      "Train Epoch: 5 [42240/60000 (70%)]\tLoss: 0.187711\n",
      "Train Epoch: 5 [42880/60000 (71%)]\tLoss: 0.329616\n",
      "Train Epoch: 5 [43520/60000 (72%)]\tLoss: 0.263352\n",
      "Train Epoch: 5 [44160/60000 (74%)]\tLoss: 0.139223\n",
      "Train Epoch: 5 [44800/60000 (75%)]\tLoss: 0.234242\n",
      "Train Epoch: 5 [45440/60000 (76%)]\tLoss: 0.118109\n",
      "Train Epoch: 5 [46080/60000 (77%)]\tLoss: 0.220636\n",
      "Train Epoch: 5 [46720/60000 (78%)]\tLoss: 0.427102\n",
      "Train Epoch: 5 [47360/60000 (79%)]\tLoss: 0.365128\n",
      "Train Epoch: 5 [48000/60000 (80%)]\tLoss: 0.150022\n",
      "Train Epoch: 5 [48640/60000 (81%)]\tLoss: 0.263517\n",
      "Train Epoch: 5 [49280/60000 (82%)]\tLoss: 0.350096\n",
      "Train Epoch: 5 [49920/60000 (83%)]\tLoss: 0.100515\n",
      "Train Epoch: 5 [50560/60000 (84%)]\tLoss: 0.174185\n",
      "Train Epoch: 5 [51200/60000 (85%)]\tLoss: 0.246020\n",
      "Train Epoch: 5 [51840/60000 (86%)]\tLoss: 0.318056\n",
      "Train Epoch: 5 [52480/60000 (87%)]\tLoss: 0.366903\n",
      "Train Epoch: 5 [53120/60000 (88%)]\tLoss: 0.228774\n",
      "Train Epoch: 5 [53760/60000 (90%)]\tLoss: 0.215848\n",
      "Train Epoch: 5 [54400/60000 (91%)]\tLoss: 0.121898\n",
      "Train Epoch: 5 [55040/60000 (92%)]\tLoss: 0.244205\n",
      "Train Epoch: 5 [55680/60000 (93%)]\tLoss: 0.454687\n",
      "Train Epoch: 5 [56320/60000 (94%)]\tLoss: 0.126142\n",
      "Train Epoch: 5 [56960/60000 (95%)]\tLoss: 0.318620\n",
      "Train Epoch: 5 [57600/60000 (96%)]\tLoss: 0.142164\n",
      "Train Epoch: 5 [58240/60000 (97%)]\tLoss: 0.120950\n",
      "Train Epoch: 5 [58880/60000 (98%)]\tLoss: 0.556849\n",
      "Train Epoch: 5 [59520/60000 (99%)]\tLoss: 0.102577\n",
      "\n",
      "Test set: Avg. loss: 0.0729, Accuracy: 9774/10000 (97%)\n",
      "\n",
      "Train Epoch: 6 [0/60000 (0%)]\tLoss: 0.355848\n",
      "Train Epoch: 6 [640/60000 (1%)]\tLoss: 0.130015\n",
      "Train Epoch: 6 [1280/60000 (2%)]\tLoss: 0.382279\n",
      "Train Epoch: 6 [1920/60000 (3%)]\tLoss: 0.191742\n",
      "Train Epoch: 6 [2560/60000 (4%)]\tLoss: 0.166606\n",
      "Train Epoch: 6 [3200/60000 (5%)]\tLoss: 0.339033\n",
      "Train Epoch: 6 [3840/60000 (6%)]\tLoss: 0.429590\n",
      "Train Epoch: 6 [4480/60000 (7%)]\tLoss: 0.193589\n",
      "Train Epoch: 6 [5120/60000 (9%)]\tLoss: 0.210582\n",
      "Train Epoch: 6 [5760/60000 (10%)]\tLoss: 0.107748\n",
      "Train Epoch: 6 [6400/60000 (11%)]\tLoss: 0.381440\n",
      "Train Epoch: 6 [7040/60000 (12%)]\tLoss: 0.213556\n",
      "Train Epoch: 6 [7680/60000 (13%)]\tLoss: 0.193307\n",
      "Train Epoch: 6 [8320/60000 (14%)]\tLoss: 0.241899\n",
      "Train Epoch: 6 [8960/60000 (15%)]\tLoss: 0.287325\n",
      "Train Epoch: 6 [9600/60000 (16%)]\tLoss: 0.216239\n",
      "Train Epoch: 6 [10240/60000 (17%)]\tLoss: 0.158754\n",
      "Train Epoch: 6 [10880/60000 (18%)]\tLoss: 0.145124\n",
      "Train Epoch: 6 [11520/60000 (19%)]\tLoss: 0.163276\n",
      "Train Epoch: 6 [12160/60000 (20%)]\tLoss: 0.554674\n",
      "Train Epoch: 6 [12800/60000 (21%)]\tLoss: 0.193963\n",
      "Train Epoch: 6 [13440/60000 (22%)]\tLoss: 0.268726\n",
      "Train Epoch: 6 [14080/60000 (23%)]\tLoss: 0.147469\n",
      "Train Epoch: 6 [14720/60000 (25%)]\tLoss: 0.153781\n",
      "Train Epoch: 6 [15360/60000 (26%)]\tLoss: 0.192743\n",
      "Train Epoch: 6 [16000/60000 (27%)]\tLoss: 0.240826\n",
      "Train Epoch: 6 [16640/60000 (28%)]\tLoss: 0.384740\n",
      "Train Epoch: 6 [17280/60000 (29%)]\tLoss: 0.139115\n",
      "Train Epoch: 6 [17920/60000 (30%)]\tLoss: 0.432034\n",
      "Train Epoch: 6 [18560/60000 (31%)]\tLoss: 0.130586\n",
      "Train Epoch: 6 [19200/60000 (32%)]\tLoss: 0.428773\n",
      "Train Epoch: 6 [19840/60000 (33%)]\tLoss: 0.296894\n",
      "Train Epoch: 6 [20480/60000 (34%)]\tLoss: 0.280411\n",
      "Train Epoch: 6 [21120/60000 (35%)]\tLoss: 0.090116\n",
      "Train Epoch: 6 [21760/60000 (36%)]\tLoss: 0.340334\n",
      "Train Epoch: 6 [22400/60000 (37%)]\tLoss: 0.142682\n",
      "Train Epoch: 6 [23040/60000 (38%)]\tLoss: 0.217775\n",
      "Train Epoch: 6 [23680/60000 (39%)]\tLoss: 0.105978\n",
      "Train Epoch: 6 [24320/60000 (41%)]\tLoss: 0.199657\n",
      "Train Epoch: 6 [24960/60000 (42%)]\tLoss: 0.356212\n",
      "Train Epoch: 6 [25600/60000 (43%)]\tLoss: 0.116416\n",
      "Train Epoch: 6 [26240/60000 (44%)]\tLoss: 0.369724\n",
      "Train Epoch: 6 [26880/60000 (45%)]\tLoss: 0.202787\n",
      "Train Epoch: 6 [27520/60000 (46%)]\tLoss: 0.225040\n",
      "Train Epoch: 6 [28160/60000 (47%)]\tLoss: 0.243998\n",
      "Train Epoch: 6 [28800/60000 (48%)]\tLoss: 0.225725\n",
      "Train Epoch: 6 [29440/60000 (49%)]\tLoss: 0.223914\n",
      "Train Epoch: 6 [30080/60000 (50%)]\tLoss: 0.219573\n",
      "Train Epoch: 6 [30720/60000 (51%)]\tLoss: 0.124292\n",
      "Train Epoch: 6 [31360/60000 (52%)]\tLoss: 0.093663\n",
      "Train Epoch: 6 [32000/60000 (53%)]\tLoss: 0.366818\n",
      "Train Epoch: 6 [32640/60000 (54%)]\tLoss: 0.136696\n",
      "Train Epoch: 6 [33280/60000 (55%)]\tLoss: 0.302153\n",
      "Train Epoch: 6 [33920/60000 (57%)]\tLoss: 0.093674\n",
      "Train Epoch: 6 [34560/60000 (58%)]\tLoss: 0.310078\n",
      "Train Epoch: 6 [35200/60000 (59%)]\tLoss: 0.114742\n",
      "Train Epoch: 6 [35840/60000 (60%)]\tLoss: 0.481864\n",
      "Train Epoch: 6 [36480/60000 (61%)]\tLoss: 0.315470\n",
      "Train Epoch: 6 [37120/60000 (62%)]\tLoss: 0.443835\n",
      "Train Epoch: 6 [37760/60000 (63%)]\tLoss: 0.136785\n",
      "Train Epoch: 6 [38400/60000 (64%)]\tLoss: 0.265328\n",
      "Train Epoch: 6 [39040/60000 (65%)]\tLoss: 0.140886\n",
      "Train Epoch: 6 [39680/60000 (66%)]\tLoss: 0.113801\n",
      "Train Epoch: 6 [40320/60000 (67%)]\tLoss: 0.108761\n",
      "Train Epoch: 6 [40960/60000 (68%)]\tLoss: 0.147511\n",
      "Train Epoch: 6 [41600/60000 (69%)]\tLoss: 0.262908\n",
      "Train Epoch: 6 [42240/60000 (70%)]\tLoss: 0.153409\n",
      "Train Epoch: 6 [42880/60000 (71%)]\tLoss: 0.132914\n",
      "Train Epoch: 6 [43520/60000 (72%)]\tLoss: 0.300284\n"
     ]
    },
    {
     "name": "stdout",
     "output_type": "stream",
     "text": [
      "Train Epoch: 6 [44160/60000 (74%)]\tLoss: 0.266898\n",
      "Train Epoch: 6 [44800/60000 (75%)]\tLoss: 0.169854\n",
      "Train Epoch: 6 [45440/60000 (76%)]\tLoss: 0.313567\n",
      "Train Epoch: 6 [46080/60000 (77%)]\tLoss: 0.103329\n",
      "Train Epoch: 6 [46720/60000 (78%)]\tLoss: 0.131562\n",
      "Train Epoch: 6 [47360/60000 (79%)]\tLoss: 0.272536\n",
      "Train Epoch: 6 [48000/60000 (80%)]\tLoss: 0.157187\n",
      "Train Epoch: 6 [48640/60000 (81%)]\tLoss: 0.179004\n",
      "Train Epoch: 6 [49280/60000 (82%)]\tLoss: 0.214300\n",
      "Train Epoch: 6 [49920/60000 (83%)]\tLoss: 0.199853\n",
      "Train Epoch: 6 [50560/60000 (84%)]\tLoss: 0.330443\n",
      "Train Epoch: 6 [51200/60000 (85%)]\tLoss: 0.136536\n",
      "Train Epoch: 6 [51840/60000 (86%)]\tLoss: 0.177906\n",
      "Train Epoch: 6 [52480/60000 (87%)]\tLoss: 0.322969\n",
      "Train Epoch: 6 [53120/60000 (88%)]\tLoss: 0.264082\n",
      "Train Epoch: 6 [53760/60000 (90%)]\tLoss: 0.525361\n",
      "Train Epoch: 6 [54400/60000 (91%)]\tLoss: 0.298411\n",
      "Train Epoch: 6 [55040/60000 (92%)]\tLoss: 0.118149\n",
      "Train Epoch: 6 [55680/60000 (93%)]\tLoss: 0.204127\n",
      "Train Epoch: 6 [56320/60000 (94%)]\tLoss: 0.203147\n",
      "Train Epoch: 6 [56960/60000 (95%)]\tLoss: 0.465323\n",
      "Train Epoch: 6 [57600/60000 (96%)]\tLoss: 0.283504\n",
      "Train Epoch: 6 [58240/60000 (97%)]\tLoss: 0.247454\n",
      "Train Epoch: 6 [58880/60000 (98%)]\tLoss: 0.185104\n",
      "Train Epoch: 6 [59520/60000 (99%)]\tLoss: 0.160244\n",
      "\n",
      "Test set: Avg. loss: 0.0688, Accuracy: 9796/10000 (97%)\n",
      "\n",
      "Train Epoch: 7 [0/60000 (0%)]\tLoss: 0.281850\n",
      "Train Epoch: 7 [640/60000 (1%)]\tLoss: 0.143317\n",
      "Train Epoch: 7 [1280/60000 (2%)]\tLoss: 0.140846\n",
      "Train Epoch: 7 [1920/60000 (3%)]\tLoss: 0.081619\n",
      "Train Epoch: 7 [2560/60000 (4%)]\tLoss: 0.111818\n",
      "Train Epoch: 7 [3200/60000 (5%)]\tLoss: 0.297547\n",
      "Train Epoch: 7 [3840/60000 (6%)]\tLoss: 0.069196\n",
      "Train Epoch: 7 [4480/60000 (7%)]\tLoss: 0.119998\n",
      "Train Epoch: 7 [5120/60000 (9%)]\tLoss: 0.391650\n",
      "Train Epoch: 7 [5760/60000 (10%)]\tLoss: 0.284595\n",
      "Train Epoch: 7 [6400/60000 (11%)]\tLoss: 0.169907\n",
      "Train Epoch: 7 [7040/60000 (12%)]\tLoss: 0.099422\n",
      "Train Epoch: 7 [7680/60000 (13%)]\tLoss: 0.310811\n",
      "Train Epoch: 7 [8320/60000 (14%)]\tLoss: 0.135522\n",
      "Train Epoch: 7 [8960/60000 (15%)]\tLoss: 0.141980\n",
      "Train Epoch: 7 [9600/60000 (16%)]\tLoss: 0.165744\n",
      "Train Epoch: 7 [10240/60000 (17%)]\tLoss: 0.092880\n",
      "Train Epoch: 7 [10880/60000 (18%)]\tLoss: 0.100483\n",
      "Train Epoch: 7 [11520/60000 (19%)]\tLoss: 0.066995\n",
      "Train Epoch: 7 [12160/60000 (20%)]\tLoss: 0.101526\n",
      "Train Epoch: 7 [12800/60000 (21%)]\tLoss: 0.109644\n",
      "Train Epoch: 7 [13440/60000 (22%)]\tLoss: 0.449971\n",
      "Train Epoch: 7 [14080/60000 (23%)]\tLoss: 0.171067\n",
      "Train Epoch: 7 [14720/60000 (25%)]\tLoss: 0.207346\n",
      "Train Epoch: 7 [15360/60000 (26%)]\tLoss: 0.182750\n",
      "Train Epoch: 7 [16000/60000 (27%)]\tLoss: 0.204710\n",
      "Train Epoch: 7 [16640/60000 (28%)]\tLoss: 0.180483\n",
      "Train Epoch: 7 [17280/60000 (29%)]\tLoss: 0.180218\n",
      "Train Epoch: 7 [17920/60000 (30%)]\tLoss: 0.291392\n",
      "Train Epoch: 7 [18560/60000 (31%)]\tLoss: 0.273118\n",
      "Train Epoch: 7 [19200/60000 (32%)]\tLoss: 0.263695\n",
      "Train Epoch: 7 [19840/60000 (33%)]\tLoss: 0.154232\n",
      "Train Epoch: 7 [20480/60000 (34%)]\tLoss: 0.175606\n",
      "Train Epoch: 7 [21120/60000 (35%)]\tLoss: 0.158190\n",
      "Train Epoch: 7 [21760/60000 (36%)]\tLoss: 0.175720\n",
      "Train Epoch: 7 [22400/60000 (37%)]\tLoss: 0.133074\n",
      "Train Epoch: 7 [23040/60000 (38%)]\tLoss: 0.293827\n",
      "Train Epoch: 7 [23680/60000 (39%)]\tLoss: 0.162415\n",
      "Train Epoch: 7 [24320/60000 (41%)]\tLoss: 0.169241\n",
      "Train Epoch: 7 [24960/60000 (42%)]\tLoss: 0.283696\n",
      "Train Epoch: 7 [25600/60000 (43%)]\tLoss: 0.190233\n",
      "Train Epoch: 7 [26240/60000 (44%)]\tLoss: 0.268323\n",
      "Train Epoch: 7 [26880/60000 (45%)]\tLoss: 0.127198\n",
      "Train Epoch: 7 [27520/60000 (46%)]\tLoss: 0.392806\n",
      "Train Epoch: 7 [28160/60000 (47%)]\tLoss: 0.198955\n",
      "Train Epoch: 7 [28800/60000 (48%)]\tLoss: 0.214671\n",
      "Train Epoch: 7 [29440/60000 (49%)]\tLoss: 0.218455\n",
      "Train Epoch: 7 [30080/60000 (50%)]\tLoss: 0.264256\n",
      "Train Epoch: 7 [30720/60000 (51%)]\tLoss: 0.239403\n",
      "Train Epoch: 7 [31360/60000 (52%)]\tLoss: 0.215068\n",
      "Train Epoch: 7 [32000/60000 (53%)]\tLoss: 0.287186\n",
      "Train Epoch: 7 [32640/60000 (54%)]\tLoss: 0.316371\n",
      "Train Epoch: 7 [33280/60000 (55%)]\tLoss: 0.205924\n",
      "Train Epoch: 7 [33920/60000 (57%)]\tLoss: 0.224861\n",
      "Train Epoch: 7 [34560/60000 (58%)]\tLoss: 0.531778\n",
      "Train Epoch: 7 [35200/60000 (59%)]\tLoss: 0.085627\n",
      "Train Epoch: 7 [35840/60000 (60%)]\tLoss: 0.157599\n",
      "Train Epoch: 7 [36480/60000 (61%)]\tLoss: 0.108497\n",
      "Train Epoch: 7 [37120/60000 (62%)]\tLoss: 0.255397\n",
      "Train Epoch: 7 [37760/60000 (63%)]\tLoss: 0.158703\n",
      "Train Epoch: 7 [38400/60000 (64%)]\tLoss: 0.083091\n",
      "Train Epoch: 7 [39040/60000 (65%)]\tLoss: 0.306626\n",
      "Train Epoch: 7 [39680/60000 (66%)]\tLoss: 0.173410\n",
      "Train Epoch: 7 [40320/60000 (67%)]\tLoss: 0.242775\n",
      "Train Epoch: 7 [40960/60000 (68%)]\tLoss: 0.289147\n",
      "Train Epoch: 7 [41600/60000 (69%)]\tLoss: 0.118197\n",
      "Train Epoch: 7 [42240/60000 (70%)]\tLoss: 0.073251\n",
      "Train Epoch: 7 [42880/60000 (71%)]\tLoss: 0.243607\n",
      "Train Epoch: 7 [43520/60000 (72%)]\tLoss: 0.168629\n",
      "Train Epoch: 7 [44160/60000 (74%)]\tLoss: 0.121507\n",
      "Train Epoch: 7 [44800/60000 (75%)]\tLoss: 0.198284\n",
      "Train Epoch: 7 [45440/60000 (76%)]\tLoss: 0.135248\n",
      "Train Epoch: 7 [46080/60000 (77%)]\tLoss: 0.032002\n",
      "Train Epoch: 7 [46720/60000 (78%)]\tLoss: 0.043843\n",
      "Train Epoch: 7 [47360/60000 (79%)]\tLoss: 0.112268\n",
      "Train Epoch: 7 [48000/60000 (80%)]\tLoss: 0.676059\n",
      "Train Epoch: 7 [48640/60000 (81%)]\tLoss: 0.103829\n",
      "Train Epoch: 7 [49280/60000 (82%)]\tLoss: 0.150396\n",
      "Train Epoch: 7 [49920/60000 (83%)]\tLoss: 0.158636\n",
      "Train Epoch: 7 [50560/60000 (84%)]\tLoss: 0.146152\n",
      "Train Epoch: 7 [51200/60000 (85%)]\tLoss: 0.244183\n",
      "Train Epoch: 7 [51840/60000 (86%)]\tLoss: 0.094256\n",
      "Train Epoch: 7 [52480/60000 (87%)]\tLoss: 0.178761\n",
      "Train Epoch: 7 [53120/60000 (88%)]\tLoss: 0.102695\n",
      "Train Epoch: 7 [53760/60000 (90%)]\tLoss: 0.098179\n",
      "Train Epoch: 7 [54400/60000 (91%)]\tLoss: 0.120908\n",
      "Train Epoch: 7 [55040/60000 (92%)]\tLoss: 0.468169\n",
      "Train Epoch: 7 [55680/60000 (93%)]\tLoss: 0.164125\n",
      "Train Epoch: 7 [56320/60000 (94%)]\tLoss: 0.147785\n",
      "Train Epoch: 7 [56960/60000 (95%)]\tLoss: 0.276165\n",
      "Train Epoch: 7 [57600/60000 (96%)]\tLoss: 0.144803\n",
      "Train Epoch: 7 [58240/60000 (97%)]\tLoss: 0.236027\n",
      "Train Epoch: 7 [58880/60000 (98%)]\tLoss: 0.405738\n",
      "Train Epoch: 7 [59520/60000 (99%)]\tLoss: 0.109711\n",
      "\n",
      "Test set: Avg. loss: 0.0648, Accuracy: 9800/10000 (98%)\n",
      "\n",
      "Train Epoch: 8 [0/60000 (0%)]\tLoss: 0.330009\n",
      "Train Epoch: 8 [640/60000 (1%)]\tLoss: 0.186693\n",
      "Train Epoch: 8 [1280/60000 (2%)]\tLoss: 0.173478\n",
      "Train Epoch: 8 [1920/60000 (3%)]\tLoss: 0.301695\n",
      "Train Epoch: 8 [2560/60000 (4%)]\tLoss: 0.125626\n",
      "Train Epoch: 8 [3200/60000 (5%)]\tLoss: 0.239376\n",
      "Train Epoch: 8 [3840/60000 (6%)]\tLoss: 0.280133\n",
      "Train Epoch: 8 [4480/60000 (7%)]\tLoss: 0.105232\n",
      "Train Epoch: 8 [5120/60000 (9%)]\tLoss: 0.057949\n",
      "Train Epoch: 8 [5760/60000 (10%)]\tLoss: 0.315738\n",
      "Train Epoch: 8 [6400/60000 (11%)]\tLoss: 0.156108\n",
      "Train Epoch: 8 [7040/60000 (12%)]\tLoss: 0.075180\n",
      "Train Epoch: 8 [7680/60000 (13%)]\tLoss: 0.115437\n",
      "Train Epoch: 8 [8320/60000 (14%)]\tLoss: 0.206891\n",
      "Train Epoch: 8 [8960/60000 (15%)]\tLoss: 0.206582\n",
      "Train Epoch: 8 [9600/60000 (16%)]\tLoss: 0.151950\n",
      "Train Epoch: 8 [10240/60000 (17%)]\tLoss: 0.191517\n",
      "Train Epoch: 8 [10880/60000 (18%)]\tLoss: 0.213695\n",
      "Train Epoch: 8 [11520/60000 (19%)]\tLoss: 0.184233\n",
      "Train Epoch: 8 [12160/60000 (20%)]\tLoss: 0.248282\n",
      "Train Epoch: 8 [12800/60000 (21%)]\tLoss: 0.190921\n",
      "Train Epoch: 8 [13440/60000 (22%)]\tLoss: 0.128844\n",
      "Train Epoch: 8 [14080/60000 (23%)]\tLoss: 0.109752\n",
      "Train Epoch: 8 [14720/60000 (25%)]\tLoss: 0.228978\n",
      "Train Epoch: 8 [15360/60000 (26%)]\tLoss: 0.224556\n",
      "Train Epoch: 8 [16000/60000 (27%)]\tLoss: 0.188307\n",
      "Train Epoch: 8 [16640/60000 (28%)]\tLoss: 0.148636\n",
      "Train Epoch: 8 [17280/60000 (29%)]\tLoss: 0.100946\n",
      "Train Epoch: 8 [17920/60000 (30%)]\tLoss: 0.173321\n",
      "Train Epoch: 8 [18560/60000 (31%)]\tLoss: 0.093181\n",
      "Train Epoch: 8 [19200/60000 (32%)]\tLoss: 0.302259\n",
      "Train Epoch: 8 [19840/60000 (33%)]\tLoss: 0.190188\n",
      "Train Epoch: 8 [20480/60000 (34%)]\tLoss: 0.245275\n",
      "Train Epoch: 8 [21120/60000 (35%)]\tLoss: 0.115553\n",
      "Train Epoch: 8 [21760/60000 (36%)]\tLoss: 0.134514\n",
      "Train Epoch: 8 [22400/60000 (37%)]\tLoss: 0.171644\n",
      "Train Epoch: 8 [23040/60000 (38%)]\tLoss: 0.171368\n",
      "Train Epoch: 8 [23680/60000 (39%)]\tLoss: 0.150041\n",
      "Train Epoch: 8 [24320/60000 (41%)]\tLoss: 0.245450\n",
      "Train Epoch: 8 [24960/60000 (42%)]\tLoss: 0.235241\n",
      "Train Epoch: 8 [25600/60000 (43%)]\tLoss: 0.142490\n",
      "Train Epoch: 8 [26240/60000 (44%)]\tLoss: 0.288658\n",
      "Train Epoch: 8 [26880/60000 (45%)]\tLoss: 0.167248\n",
      "Train Epoch: 8 [27520/60000 (46%)]\tLoss: 0.191423\n"
     ]
    },
    {
     "name": "stdout",
     "output_type": "stream",
     "text": [
      "Train Epoch: 8 [28160/60000 (47%)]\tLoss: 0.133012\n",
      "Train Epoch: 8 [28800/60000 (48%)]\tLoss: 0.471539\n",
      "Train Epoch: 8 [29440/60000 (49%)]\tLoss: 0.215865\n",
      "Train Epoch: 8 [30080/60000 (50%)]\tLoss: 0.161174\n",
      "Train Epoch: 8 [30720/60000 (51%)]\tLoss: 0.176798\n",
      "Train Epoch: 8 [31360/60000 (52%)]\tLoss: 0.205923\n",
      "Train Epoch: 8 [32000/60000 (53%)]\tLoss: 0.314755\n",
      "Train Epoch: 8 [32640/60000 (54%)]\tLoss: 0.122190\n",
      "Train Epoch: 8 [33280/60000 (55%)]\tLoss: 0.400602\n",
      "Train Epoch: 8 [33920/60000 (57%)]\tLoss: 0.489961\n",
      "Train Epoch: 8 [34560/60000 (58%)]\tLoss: 0.058588\n",
      "Train Epoch: 8 [35200/60000 (59%)]\tLoss: 0.274971\n",
      "Train Epoch: 8 [35840/60000 (60%)]\tLoss: 0.133462\n",
      "Train Epoch: 8 [36480/60000 (61%)]\tLoss: 0.268860\n",
      "Train Epoch: 8 [37120/60000 (62%)]\tLoss: 0.190904\n",
      "Train Epoch: 8 [37760/60000 (63%)]\tLoss: 0.121526\n",
      "Train Epoch: 8 [38400/60000 (64%)]\tLoss: 0.186003\n",
      "Train Epoch: 8 [39040/60000 (65%)]\tLoss: 0.120304\n",
      "Train Epoch: 8 [39680/60000 (66%)]\tLoss: 0.232063\n",
      "Train Epoch: 8 [40320/60000 (67%)]\tLoss: 0.231884\n",
      "Train Epoch: 8 [40960/60000 (68%)]\tLoss: 0.043572\n",
      "Train Epoch: 8 [41600/60000 (69%)]\tLoss: 0.280684\n",
      "Train Epoch: 8 [42240/60000 (70%)]\tLoss: 0.087335\n",
      "Train Epoch: 8 [42880/60000 (71%)]\tLoss: 0.161044\n",
      "Train Epoch: 8 [43520/60000 (72%)]\tLoss: 0.299902\n",
      "Train Epoch: 8 [44160/60000 (74%)]\tLoss: 0.197376\n",
      "Train Epoch: 8 [44800/60000 (75%)]\tLoss: 0.170799\n",
      "Train Epoch: 8 [45440/60000 (76%)]\tLoss: 0.070327\n",
      "Train Epoch: 8 [46080/60000 (77%)]\tLoss: 0.266619\n",
      "Train Epoch: 8 [46720/60000 (78%)]\tLoss: 0.137670\n",
      "Train Epoch: 8 [47360/60000 (79%)]\tLoss: 0.266776\n",
      "Train Epoch: 8 [48000/60000 (80%)]\tLoss: 0.131680\n",
      "Train Epoch: 8 [48640/60000 (81%)]\tLoss: 0.272340\n",
      "Train Epoch: 8 [49280/60000 (82%)]\tLoss: 0.272594\n",
      "Train Epoch: 8 [49920/60000 (83%)]\tLoss: 0.443659\n",
      "Train Epoch: 8 [50560/60000 (84%)]\tLoss: 0.247340\n",
      "Train Epoch: 8 [51200/60000 (85%)]\tLoss: 0.314940\n",
      "Train Epoch: 8 [51840/60000 (86%)]\tLoss: 0.107854\n",
      "Train Epoch: 8 [52480/60000 (87%)]\tLoss: 0.169267\n",
      "Train Epoch: 8 [53120/60000 (88%)]\tLoss: 0.099658\n",
      "Train Epoch: 8 [53760/60000 (90%)]\tLoss: 0.266677\n",
      "Train Epoch: 8 [54400/60000 (91%)]\tLoss: 0.196155\n",
      "Train Epoch: 8 [55040/60000 (92%)]\tLoss: 0.129854\n",
      "Train Epoch: 8 [55680/60000 (93%)]\tLoss: 0.200320\n",
      "Train Epoch: 8 [56320/60000 (94%)]\tLoss: 0.203683\n",
      "Train Epoch: 8 [56960/60000 (95%)]\tLoss: 0.312531\n",
      "Train Epoch: 8 [57600/60000 (96%)]\tLoss: 0.324777\n",
      "Train Epoch: 8 [58240/60000 (97%)]\tLoss: 0.194123\n",
      "Train Epoch: 8 [58880/60000 (98%)]\tLoss: 0.273174\n",
      "Train Epoch: 8 [59520/60000 (99%)]\tLoss: 0.387069\n",
      "\n",
      "Test set: Avg. loss: 0.0572, Accuracy: 9828/10000 (98%)\n",
      "\n"
     ]
    }
   ],
   "source": [
    "for i in range(4,9):\n",
    "  test_counter.append(i*len(train_loader.dataset))\n",
    "  train(i)\n",
    "  test()"
   ]
  },
  {
   "cell_type": "code",
   "execution_count": 31,
   "metadata": {},
   "outputs": [
    {
     "data": {
      "image/png": "[encoded data removed]",
      "text/plain": [
       "<Figure size 432x288 with 1 Axes>"
      ]
     },
     "execution_count": 31,
     "metadata": {},
     "output_type": "execute_result"
    },
    {
     "data": {
      "image/png": "[encoded data removed]",
      "text/plain": [
       "<Figure size 432x288 with 1 Axes>"
      ]
     },
     "metadata": {},
     "output_type": "display_data"
    }
   ],
   "source": [
    "fig = plt.figure()\n",
    "plt.plot(train_counter, train_losses, color='blue')\n",
    "plt.scatter(test_counter, test_losses, color='red')\n",
    "plt.legend(['Train Loss', 'Test Loss'], loc='upper right')\n",
    "plt.xlabel('number of training examples seen')\n",
    "plt.ylabel('negative log likelihood loss')\n",
    "fig"
   ]
  },
  {
   "cell_type": "code",
   "execution_count": null,
   "metadata": {},
   "outputs": [],
   "source": []
  },
  {
   "cell_type": "code",
   "execution_count": null,
   "metadata": {},
   "outputs": [],
   "source": []
  },
  {
   "cell_type": "code",
   "execution_count": null,
   "metadata": {},
   "outputs": [],
   "source": []
  },
  {
   "cell_type": "code",
   "execution_count": 32,
   "metadata": {},
   "outputs": [
    {
     "name": "stdout",
     "output_type": "stream",
     "text": [
      "<class 'torch.utils.data.dataloader.DataLoader'>\n",
      "938\n",
      "<class 'torch.utils.data.dataloader.DataLoader'>\n",
      "10\n"
     ]
    }
   ],
   "source": [
    "print(type(train_loader))\n",
    "print(len(train_loader))\n",
    "\n",
    "print(type(test_loader))\n",
    "print(len(test_loader))"
   ]
  },
  {
   "cell_type": "code",
   "execution_count": null,
   "metadata": {},
   "outputs": [],
   "source": []
  },
  {
   "cell_type": "markdown",
   "metadata": {},
   "source": [
    "https://www.aiworkbox.com/lessons/load-mnist-dataset-from-pytorch-torchvision"
   ]
  },
  {
   "cell_type": "code",
   "execution_count": null,
   "metadata": {},
   "outputs": [],
   "source": [
    "import torch"
   ]
  },
  {
   "cell_type": "code",
   "execution_count": null,
   "metadata": {},
   "outputs": [],
   "source": [
    "print(torch.__version__)"
   ]
  },
  {
   "cell_type": "code",
   "execution_count": null,
   "metadata": {},
   "outputs": [],
   "source": [
    "import torchvision"
   ]
  },
  {
   "cell_type": "code",
   "execution_count": null,
   "metadata": {},
   "outputs": [],
   "source": [
    "import torchvision.datasets as datasets"
   ]
  },
  {
   "cell_type": "code",
   "execution_count": null,
   "metadata": {},
   "outputs": [],
   "source": [
    "mnist_trainset = datasets.MNIST(root='./data', train=True, download=True, transform=None)"
   ]
  },
  {
   "cell_type": "code",
   "execution_count": null,
   "metadata": {},
   "outputs": [],
   "source": [
    "len(mnist_trainset)"
   ]
  },
  {
   "cell_type": "code",
   "execution_count": null,
   "metadata": {},
   "outputs": [],
   "source": [
    "mnist_testset = datasets.MNIST(root='./data', train=False, download=True, transform=None)"
   ]
  },
  {
   "cell_type": "code",
   "execution_count": null,
   "metadata": {},
   "outputs": [],
   "source": [
    "len(mnist_testset)"
   ]
  },
  {
   "cell_type": "code",
   "execution_count": null,
   "metadata": {},
   "outputs": [],
   "source": [
    "items=0\n",
    "for data, target in mnist_trainset:\n",
    "    if items < 5:\n",
    "        print(target)\n",
    "        items+=1\n"
   ]
  },
  {
   "cell_type": "markdown",
   "metadata": {},
   "source": [
    "\n",
    "\n",
    "\n",
    "https://www.aiworkbox.com/lessons/examine-mnist-dataset-from-pytorch-torchvision"
   ]
  },
  {
   "cell_type": "code",
   "execution_count": null,
   "metadata": {},
   "outputs": [],
   "source": [
    "mnist_trainset[0]"
   ]
  },
  {
   "cell_type": "code",
   "execution_count": null,
   "metadata": {},
   "outputs": [],
   "source": [
    "# items=0\n",
    "# for batch_id, (data, label) in enumerate(mnist_trainset):\n",
    "#     data = Variable(data)\n",
    "#     target = Variable(label)\n",
    "#     if items < 5:\n",
    "#         print (data, target)"
   ]
  },
  {
   "cell_type": "code",
   "execution_count": null,
   "metadata": {},
   "outputs": [],
   "source": [
    "type(mnist_trainset[0])"
   ]
  },
  {
   "cell_type": "code",
   "execution_count": null,
   "metadata": {},
   "outputs": [],
   "source": [
    "train_image_zero, train_target_zero = mnist_trainset[0]"
   ]
  },
  {
   "cell_type": "code",
   "execution_count": null,
   "metadata": {},
   "outputs": [],
   "source": [
    "train_image_zero.show()"
   ]
  },
  {
   "cell_type": "code",
   "execution_count": null,
   "metadata": {},
   "outputs": [],
   "source": [
    "print(train_target_zero)"
   ]
  },
  {
   "cell_type": "code",
   "execution_count": null,
   "metadata": {},
   "outputs": [],
   "source": []
  }
 ],
 "metadata": {
  "kernelspec": {
   "display_name": "Python 3",
   "language": "python",
   "name": "python3"
  },
  "language_info": {
   "codemirror_mode": {
    "name": "ipython",
    "version": 3
   },
   "file_extension": ".py",
   "mimetype": "text/x-python",
   "name": "python",
   "nbconvert_exporter": "python",
   "pygments_lexer": "ipython3",
   "version": "3.6.5"
  }
 },
 "nbformat": 4,
 "nbformat_minor": 2
}
