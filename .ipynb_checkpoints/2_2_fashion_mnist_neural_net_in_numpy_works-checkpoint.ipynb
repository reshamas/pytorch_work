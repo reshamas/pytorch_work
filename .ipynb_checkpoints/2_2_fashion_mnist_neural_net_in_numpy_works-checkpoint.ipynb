{
 "cells": [
  {
   "cell_type": "markdown",
   "metadata": {},
   "source": [
    "# Building a Neural Network from Scratch\n",
    "\n",
    "http://jonathanweisberg.org/post/A%20Neural%20Network%20from%20Scratch%20-%20Part%201/\n",
    "\n",
    "\n",
    "In this post we’re going to build a neural network from scratch. We’ll train it to recognize hand-written digits, using the famous MNIST data set.\n",
    "\n",
    "We’ll use just basic Python with NumPy to build our network (no high-level stuff like Keras or TensorFlow). We will dip into scikit-learn, but only to get the MNIST data and to assess our model once its built."
   ]
  },
  {
   "cell_type": "markdown",
   "metadata": {},
   "source": [
    "---"
   ]
  },
  {
   "cell_type": "markdown",
   "metadata": {},
   "source": [
    "#  (Fashion MNIST)\n",
    "## data:  70000"
   ]
  },
  {
   "cell_type": "code",
   "execution_count": 1,
   "metadata": {},
   "outputs": [],
   "source": [
    "import time\n",
    "import numpy as np\n",
    "%matplotlib inline\n",
    "import matplotlib\n",
    "import matplotlib.pyplot as plt"
   ]
  },
  {
   "cell_type": "code",
   "execution_count": 2,
   "metadata": {},
   "outputs": [],
   "source": [
    "def load_mnist(path, kind='train'):\n",
    "    import os\n",
    "    import gzip\n",
    "    import numpy as np\n",
    "\n",
    "    \"\"\"Load MNIST data from `path`\"\"\"\n",
    "    labels_path = os.path.join(path,\n",
    "                               '%s-labels-idx1-ubyte.gz'\n",
    "                               % kind)\n",
    "    images_path = os.path.join(path,\n",
    "                               '%s-images-idx3-ubyte.gz'\n",
    "                               % kind)\n",
    "\n",
    "    with gzip.open(labels_path, 'rb') as lbpath:\n",
    "        labels = np.frombuffer(lbpath.read(), dtype=np.uint8,\n",
    "                               offset=8)\n",
    "\n",
    "    with gzip.open(images_path, 'rb') as imgpath:\n",
    "        images = np.frombuffer(imgpath.read(), dtype=np.uint8,\n",
    "                               offset=16).reshape(len(labels), 784)\n",
    "\n",
    "    return images, labels"
   ]
  },
  {
   "cell_type": "code",
   "execution_count": 3,
   "metadata": {},
   "outputs": [],
   "source": [
    "path = '/Users/reshamashaikh/ds/my_repos/pytorch_work/data_fashion/'\n",
    "#path = '/Users/reshamashaikh/ds/my_repos/fashion_mnist/raw'"
   ]
  },
  {
   "cell_type": "code",
   "execution_count": 4,
   "metadata": {},
   "outputs": [
    {
     "name": "stdout",
     "output_type": "stream",
     "text": [
      "total 171304\r\n",
      "drwxr-xr-x  22 reshamashaikh  staff       704 Sep  9 17:33 \u001b[1m\u001b[36m..\u001b[m\u001b[m\r\n",
      "-rw-r--r--@  1 reshamashaikh  staff      6148 Aug 31 22:59 .DS_Store\r\n",
      "drwxr-xr-x  11 reshamashaikh  staff       352 Aug 31 22:59 \u001b[1m\u001b[36m.\u001b[m\u001b[m\r\n",
      "-rw-r--r--   1 reshamashaikh  staff     10008 Aug 31 22:59 t10k-labels-idx1-ubyte\r\n",
      "-rw-r--r--   1 reshamashaikh  staff     60008 Aug 31 22:58 train-labels-idx1-ubyte\r\n",
      "-rw-r--r--   1 reshamashaikh  staff  47040016 Aug 31 22:58 train-images-idx3-ubyte\r\n",
      "-rw-r--r--   1 reshamashaikh  staff   7840016 Aug 31 22:58 t10k-images-idx3-ubyte\r\n",
      "-rw-r--r--@  1 reshamashaikh  staff      5148 Aug 31  2017 t10k-labels-idx1-ubyte.gz\r\n",
      "-rw-r--r--@  1 reshamashaikh  staff   4422102 Aug 31  2017 t10k-images-idx3-ubyte.gz\r\n",
      "-rw-r--r--@  1 reshamashaikh  staff     29515 Aug 31  2017 train-labels-idx1-ubyte.gz\r\n",
      "-rw-r--r--@  1 reshamashaikh  staff  26421880 Aug 31  2017 train-images-idx3-ubyte.gz\r\n"
     ]
    }
   ],
   "source": [
    "!ls -alt {path}"
   ]
  },
  {
   "cell_type": "code",
   "execution_count": 5,
   "metadata": {},
   "outputs": [],
   "source": [
    "X_train, Y_train = load_mnist(path, kind='train')\n",
    "X_test, Y_test = load_mnist(path, kind='t10k')"
   ]
  },
  {
   "cell_type": "code",
   "execution_count": 6,
   "metadata": {},
   "outputs": [
    {
     "name": "stdout",
     "output_type": "stream",
     "text": [
      "<class 'numpy.ndarray'>\n",
      "(60000, 784)\n",
      "<class 'numpy.ndarray'>\n",
      "(60000,)\n",
      "<class 'numpy.ndarray'>\n",
      "(10000, 784)\n",
      "<class 'numpy.ndarray'>\n",
      "(10000,)\n"
     ]
    }
   ],
   "source": [
    "print(type(X_train))\n",
    "print(X_train.shape)\n",
    "\n",
    "print(type(Y_train))\n",
    "print(Y_train.shape)\n",
    "\n",
    "print(type(X_test))\n",
    "print(X_test.shape)\n",
    "\n",
    "print(type(Y_test))\n",
    "print(Y_test.shape)"
   ]
  },
  {
   "cell_type": "code",
   "execution_count": 7,
   "metadata": {},
   "outputs": [],
   "source": [
    "t0 = time.time()"
   ]
  },
  {
   "cell_type": "code",
   "execution_count": 8,
   "metadata": {},
   "outputs": [],
   "source": [
    "# from sklearn.datasets import fetch_mldata\n",
    "\n",
    "# mnist = fetch_mldata('MNIST original')\n",
    "# X, y = mnist[\"data\"], mnist[\"target\"]"
   ]
  },
  {
   "cell_type": "code",
   "execution_count": 9,
   "metadata": {},
   "outputs": [],
   "source": [
    "# We’ll normalize the data to keep our gradients manageable:\n",
    "\n",
    "X_train = X_train / 255\n",
    "X_test = X_test / 255"
   ]
  },
  {
   "cell_type": "code",
   "execution_count": 10,
   "metadata": {},
   "outputs": [
    {
     "name": "stdout",
     "output_type": "stream",
     "text": [
      "<class 'numpy.ndarray'>\n",
      "(784, 60000)\n",
      "<class 'numpy.ndarray'>\n",
      "(784, 10000)\n"
     ]
    }
   ],
   "source": [
    "X_train = np.transpose(X_train)\n",
    "X_test = np.transpose(X_test)\n",
    "\n",
    "print(type(X_train))\n",
    "print(X_train.shape)\n",
    "\n",
    "print(type(X_test))\n",
    "print(X_test.shape)"
   ]
  },
  {
   "cell_type": "code",
   "execution_count": 11,
   "metadata": {},
   "outputs": [
    {
     "name": "stdout",
     "output_type": "stream",
     "text": [
      "--------------------\n",
      "(60000,)\n",
      "<class 'numpy.ndarray'>\n",
      "(1, 60000)\n",
      "<class 'numpy.ndarray'>\n",
      "(1, 60000, 10)\n",
      "<class 'numpy.ndarray'>\n",
      "(10, 60000)\n",
      "--------------------\n",
      "(10000,)\n",
      "<class 'numpy.ndarray'>\n",
      "(1, 10000)\n",
      "<class 'numpy.ndarray'>\n",
      "(1, 10000, 10)\n",
      "<class 'numpy.ndarray'>\n",
      "(10, 10000)\n"
     ]
    }
   ],
   "source": [
    "# Then we’ll one-hot encode MNIST’s labels, to get a 10 x 70,000 array.\n",
    "digits = 10\n",
    "m = 60000\n",
    "\n",
    "def encode_labels(y, logp):\n",
    "    #digits = 10\n",
    "    examples = y.shape[0]\n",
    "\n",
    "    print('-'*20)\n",
    "    print(y.shape)\n",
    "    y = y.reshape(1, examples)\n",
    "    if logp == 1:\n",
    "        print(type(y))\n",
    "        print(y.shape)\n",
    "\n",
    "    Y_new = np.eye(digits)[y.astype('int32')]\n",
    "    if logp == 1:\n",
    "        print(type(Y_new))\n",
    "        print(Y_new.shape)\n",
    "\n",
    "    Y_new = Y_new.T.reshape(digits, examples)\n",
    "    if logp == 1:\n",
    "        print(type(Y_new))\n",
    "        print(Y_new.shape)\n",
    "        \n",
    "    return Y_new\n",
    "\n",
    "Y_train = encode_labels(Y_train, 1)\n",
    "Y_test = encode_labels(Y_test, 1)"
   ]
  },
  {
   "cell_type": "code",
   "execution_count": 15,
   "metadata": {},
   "outputs": [
    {
     "name": "stdout",
     "output_type": "stream",
     "text": [
      "<class 'numpy.ndarray'>\n",
      "(784, 60000)\n",
      "<class 'numpy.ndarray'>\n",
      "(10, 60000)\n"
     ]
    }
   ],
   "source": [
    "print(type(X_train))\n",
    "print(X_train.shape)\n",
    "\n",
    "print(type(Y_train))\n",
    "print(Y_train.shape)"
   ]
  },
  {
   "cell_type": "code",
   "execution_count": 16,
   "metadata": {},
   "outputs": [
    {
     "data": {
      "image/png": "[encoded data removed]",
      "text/plain": [
       "<Figure size 432x288 with 1 Axes>"
      ]
     },
     "metadata": {},
     "output_type": "display_data"
    },
    {
     "data": {
      "text/plain": [
       "array([0., 0., 0., 0., 0., 1., 0., 0., 0., 0.])"
      ]
     },
     "execution_count": 16,
     "metadata": {},
     "output_type": "execute_result"
    }
   ],
   "source": [
    "# A quick check that things are as they should be:\n",
    "\n",
    "i = 12\n",
    "plt.imshow(X_train[:,i].reshape(28,28), cmap = matplotlib.cm.binary)\n",
    "plt.axis(\"on\")\n",
    "plt.show()\n",
    "Y_train[:,i]"
   ]
  },
  {
   "cell_type": "code",
   "execution_count": 17,
   "metadata": {},
   "outputs": [],
   "source": [
    "#So let’s define:\n",
    "\n",
    "def compute_multiclass_loss(Y, Y_hat):\n",
    "\n",
    "    L_sum = np.sum(np.multiply(Y, np.log(Y_hat)))\n",
    "    m = Y.shape[1]\n",
    "    L = -(1/m) * L_sum\n",
    "\n",
    "    return L"
   ]
  },
  {
   "cell_type": "code",
   "execution_count": 18,
   "metadata": {},
   "outputs": [],
   "source": [
    "def sigmoid(z):\n",
    "    s = 1 / (1 + np.exp(-z))\n",
    "    return s"
   ]
  },
  {
   "cell_type": "markdown",
   "metadata": {},
   "source": [
    "### one hidden layer"
   ]
  },
  {
   "cell_type": "code",
   "execution_count": 19,
   "metadata": {},
   "outputs": [
    {
     "name": "stdout",
     "output_type": "stream",
     "text": [
      "Epoch 0 cost:  6.610702254862646\n",
      "Epoch 100 cost:  0.9620180315785246\n",
      "Epoch 200 cost:  0.8402263067690293\n",
      "Epoch 300 cost:  0.7811708527971\n",
      "Epoch 400 cost:  0.7274272068968991\n",
      "Epoch 500 cost:  0.6830446177948594\n",
      "Epoch 600 cost:  0.6458801818990421\n",
      "Epoch 700 cost:  0.6167941729027928\n",
      "Epoch 800 cost:  0.5944074476825082\n",
      "Epoch 900 cost:  0.5766117413261572\n",
      "Epoch 1000 cost:  0.5610676746377082\n",
      "Epoch 1100 cost:  0.5477173361745385\n",
      "Epoch 1200 cost:  0.5357986955550329\n",
      "Epoch 1300 cost:  0.5250015240908327\n",
      "Epoch 1400 cost:  0.5151646163432007\n",
      "Epoch 1500 cost:  0.506175718518084\n",
      "Epoch 1600 cost:  0.4979345955512209\n",
      "Epoch 1700 cost:  0.49034768891299363\n",
      "Epoch 1800 cost:  0.4833300307074315\n",
      "Epoch 1900 cost:  0.47680751291267565\n",
      "Final cost: 0.4644229896951908\n"
     ]
    }
   ],
   "source": [
    "# 4.5 Build & Train\n",
    "\n",
    "n_x = X_train.shape[0]\n",
    "n_h = 64\n",
    "learning_rate = 1\n",
    "\n",
    "W1 = np.random.randn(n_h, n_x)\n",
    "b1 = np.zeros((n_h, 1))\n",
    "W2 = np.random.randn(digits, n_h)\n",
    "b2 = np.zeros((digits, 1))\n",
    "\n",
    "X = X_train\n",
    "Y = Y_train\n",
    "\n",
    "for i in range(2000):\n",
    "\n",
    "    Z1 = np.matmul(W1,X) + b1\n",
    "    A1 = sigmoid(Z1)\n",
    "    Z2 = np.matmul(W2,A1) + b2\n",
    "    A2 = np.exp(Z2) / np.sum(np.exp(Z2), axis=0)\n",
    "\n",
    "    cost = compute_multiclass_loss(Y, A2)\n",
    "\n",
    "    dZ2 = A2-Y\n",
    "    dW2 = (1./m) * np.matmul(dZ2, A1.T)\n",
    "    db2 = (1./m) * np.sum(dZ2, axis=1, keepdims=True)\n",
    "\n",
    "    dA1 = np.matmul(W2.T, dZ2)\n",
    "    dZ1 = dA1 * sigmoid(Z1) * (1 - sigmoid(Z1))\n",
    "    dW1 = (1./m) * np.matmul(dZ1, X.T)\n",
    "    db1 = (1./m) * np.sum(dZ1, axis=1, keepdims=True)\n",
    "\n",
    "    W2 = W2 - learning_rate * dW2\n",
    "    b2 = b2 - learning_rate * db2\n",
    "    W1 = W1 - learning_rate * dW1\n",
    "    b1 = b1 - learning_rate * db1\n",
    "\n",
    "    if (i % 100 == 0):\n",
    "        print(\"Epoch\", i, \"cost: \", cost)\n",
    "\n",
    "print(\"Final cost:\", cost)"
   ]
  },
  {
   "cell_type": "code",
   "execution_count": 20,
   "metadata": {},
   "outputs": [],
   "source": [
    "from sklearn.metrics import classification_report, confusion_matrix"
   ]
  },
  {
   "cell_type": "code",
   "execution_count": 21,
   "metadata": {},
   "outputs": [
    {
     "name": "stdout",
     "output_type": "stream",
     "text": [
      "[[863   7  30  53   1   0 263   0   8   1]\n",
      " [  5 952   1  24   2   1   0   0   2   0]\n",
      " [ 22   5 751  21 149   0 167   0  24   0]\n",
      " [ 56  28   8 841  31   0  50   0   5   0]\n",
      " [ 10   3 148  49 786   0 157   0  11   0]\n",
      " [  3   0   2   1   2 899   0  33   6  19]\n",
      " [ 24   3  46   9  23   0 328   0   4   0]\n",
      " [  1   0   0   0   0  57   0 909  12  46]\n",
      " [ 16   2  13   2   6  10  35   2 928   5]\n",
      " [  0   0   1   0   0  33   0  56   0 929]]\n",
      "             precision    recall  f1-score   support\n",
      "\n",
      "          0       0.86      0.70      0.78      1226\n",
      "          1       0.95      0.96      0.96       987\n",
      "          2       0.75      0.66      0.70      1139\n",
      "          3       0.84      0.83      0.83      1019\n",
      "          4       0.79      0.68      0.73      1164\n",
      "          5       0.90      0.93      0.92       965\n",
      "          6       0.33      0.75      0.46       437\n",
      "          7       0.91      0.89      0.90      1025\n",
      "          8       0.93      0.91      0.92      1019\n",
      "          9       0.93      0.91      0.92      1019\n",
      "\n",
      "avg / total       0.85      0.82      0.83     10000\n",
      "\n"
     ]
    }
   ],
   "source": [
    "# Let’s see how we did:\n",
    "\n",
    "Z1 = np.matmul(W1, X_test) + b1\n",
    "A1 = sigmoid(Z1)\n",
    "Z2 = np.matmul(W2, A1) + b2\n",
    "A2 = np.exp(Z2) / np.sum(np.exp(Z2), axis=0)\n",
    "\n",
    "predictions = np.argmax(A2, axis=0)\n",
    "labels = np.argmax(Y_test, axis=0)\n",
    "\n",
    "index = 0\n",
    "misclassifiedIndexes = []\n",
    "for label, predict in zip(labels, predictions):\n",
    "    if label != predict: \n",
    "        misclassifiedIndexes.append(index)\n",
    "    index +=1\n",
    "\n",
    "print(confusion_matrix(predictions, labels))\n",
    "print(classification_report(predictions, labels))"
   ]
  },
  {
   "cell_type": "code",
   "execution_count": 22,
   "metadata": {},
   "outputs": [
    {
     "name": "stdout",
     "output_type": "stream",
     "text": [
      "1814\n"
     ]
    }
   ],
   "source": [
    "print(len(misclassifiedIndexes))"
   ]
  },
  {
   "cell_type": "code",
   "execution_count": 23,
   "metadata": {},
   "outputs": [
    {
     "name": "stdout",
     "output_type": "stream",
     "text": [
      "Accuracy:   0.8186\n"
     ]
    }
   ],
   "source": [
    "print(\"Accuracy:  \", 1 - (len(misclassifiedIndexes)/10000))"
   ]
  },
  {
   "cell_type": "code",
   "execution_count": null,
   "metadata": {},
   "outputs": [],
   "source": []
  },
  {
   "cell_type": "code",
   "execution_count": null,
   "metadata": {},
   "outputs": [],
   "source": []
  }
 ],
 "metadata": {
  "kernelspec": {
   "display_name": "Python 3",
   "language": "python",
   "name": "python3"
  },
  "language_info": {
   "codemirror_mode": {
    "name": "ipython",
    "version": 3
   },
   "file_extension": ".py",
   "mimetype": "text/x-python",
   "name": "python",
   "nbconvert_exporter": "python",
   "pygments_lexer": "ipython3",
   "version": "3.6.5"
  }
 },
 "nbformat": 4,
 "nbformat_minor": 2
}
